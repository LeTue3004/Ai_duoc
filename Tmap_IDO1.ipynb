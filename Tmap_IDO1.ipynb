{
 "cells": [
  {
   "cell_type": "markdown",
   "metadata": {},
   "source": [
    "Import the library"
   ]
  },
  {
   "cell_type": "code",
   "execution_count": 1,
   "metadata": {},
   "outputs": [],
   "source": [
    "import pandas as pd\n",
    "import tmap as tmap\n",
    "from faerun import Faerun\n",
    "\n",
    "from rdkit.Chem import AllChem\n",
    "from rdkit import Chem\n",
    "from rdkit.Chem import Descriptors, MACCSkeys\n",
    "from rdkit.ML.Descriptors import MoleculeDescriptors\n",
    "from matplotlib.colors import ListedColormap\n",
    "from rdkit.Chem.Descriptors import ExactMolWt\n",
    "\n",
    "import pandas as pd\n",
    "import numpy as np"
   ]
  },
  {
   "cell_type": "markdown",
   "metadata": {},
   "source": [
    "Import the dataset"
   ]
  },
  {
   "cell_type": "code",
   "execution_count": 2,
   "metadata": {},
   "outputs": [
    {
     "name": "stdout",
     "output_type": "stream",
     "text": [
      "   STT   CID                                             SMILES  IC50 (uM)  \\\n",
      "0    1  2378  C1=CC=C(C=C1)C2=CC=C(C=C2)C(C3=CC=CC=C3)N4C=CN=C4       23.0   \n",
      "1    2  3198  C1=CC(=CC=C1COC(CN2C=CN=C2)C3=C(C=C(C=C3)Cl)Cl)Cl        4.6   \n",
      "2    3  3675                                  C1=CC=C(C=C1)CCNN       14.0   \n",
      "3    4  3760  C1=CC(=C(C(=C1)Cl)COC(CN2C=CN=C2)C3=C(C=C(C=C3...       23.0   \n",
      "4    5  3823  CC(=O)N1CCN(CC1)C2=CC=C(C=C2)OCC3COC(O3)(CN4C=...       32.0   \n",
      "\n",
      "  Substructure 1,3-diphenylurea 1H-indazole Beta-carboline Dihydropyridine  \\\n",
      "0    Imidazole              NaN         NaN            NaN             NaN   \n",
      "1    Imidazole              NaN         NaN            NaN             NaN   \n",
      "2        Other              NaN         NaN            NaN             NaN   \n",
      "3    Imidazole              NaN         NaN            NaN             NaN   \n",
      "4    Imidazole              NaN         NaN            NaN             NaN   \n",
      "\n",
      "  Furan  ... Thiohydantoin Thiophene Triazole Tryptophan 1H-indole-4,7-dione  \\\n",
      "0   NaN  ...           NaN       NaN      NaN        NaN                 NaN   \n",
      "1   NaN  ...           NaN       NaN      NaN        NaN                 NaN   \n",
      "2   NaN  ...           NaN       NaN      NaN        NaN                 NaN   \n",
      "3   NaN  ...           NaN       NaN      NaN        NaN                 NaN   \n",
      "4   NaN  ...           NaN       NaN      NaN        NaN                 NaN   \n",
      "\n",
      "  5H-imidazo(5,1-a)isoindole Brassinin Tryptanthrin  \\\n",
      "0                        NaN       NaN          NaN   \n",
      "1                        NaN       NaN          NaN   \n",
      "2                        NaN       NaN          NaN   \n",
      "3                        NaN       NaN          NaN   \n",
      "4                        NaN       NaN          NaN   \n",
      "\n",
      "  3-(1H-indol-3-yl)pyrrolidine-2,5-dione Other  \n",
      "0                                    NaN   NaN  \n",
      "1                                    NaN   NaN  \n",
      "2                                    NaN     x  \n",
      "3                                    NaN   NaN  \n",
      "4                                    NaN   NaN  \n",
      "\n",
      "[5 rows x 30 columns]\n"
     ]
    }
   ],
   "source": [
    "import pandas as pd\n",
    "\n",
    "# URL của file trên GitHub\n",
    "url = 'https://raw.githubusercontent.com/LeTue3004/Ai_duoc/main/Preprocessing_IDO1_Substructure%26IC50.csv'\n",
    "\n",
    "# Đọc file CSV từ URL và lưu dữ liệu vào DataFrame\n",
    "data = pd.read_csv(url)\n",
    "\n",
    "# Xem nội dung của DataFrame\n",
    "print(data.head())"
   ]
  },
  {
   "cell_type": "markdown",
   "metadata": {},
   "source": [
    "mã hoá smiles"
   ]
  },
  {
   "cell_type": "code",
   "execution_count": 12,
   "metadata": {},
   "outputs": [],
   "source": [
    "#MACCS\n",
    "from tqdm import tqdm\n",
    "\n",
    "def tmap_maccs_fpts(data):\n",
    "    Maccs_fpts = []\n",
    "    count = 0\n",
    "    with tqdm(total=len(data), desc='Progress') as pbar:\n",
    "        for i in data:\n",
    "            try:\n",
    "                mol = Chem.MolFromSmiles(i)\n",
    "            except:\n",
    "                print(\"An exception occurred with \" + str(count))\n",
    "                continue\n",
    "            fpts = MACCSkeys.GenMACCSKeys(mol)\n",
    "            mfpts = np.array(fpts)\n",
    "            mfpts = tmap.VectorUint(mfpts)\n",
    "            Maccs_fpts.append(mfpts)\n",
    "            count += 1\n",
    "            pbar.update(1)  # Update the progress bar\n",
    "    return np.array(Maccs_fpts)"
   ]
  },
  {
   "cell_type": "markdown",
   "metadata": {},
   "source": [
    "mã hoá chuỗi smiles của tập IDO1"
   ]
  },
  {
   "cell_type": "code",
   "execution_count": 13,
   "metadata": {},
   "outputs": [
    {
     "name": "stderr",
     "output_type": "stream",
     "text": [
      "Progress: 100%|██████████| 3348/3348 [00:07<00:00, 441.93it/s]\n"
     ]
    }
   ],
   "source": [
    "fps = tmap_maccs_fpts(data[\"SMILES\"])"
   ]
  },
  {
   "cell_type": "markdown",
   "metadata": {},
   "source": [
    "GENERATE TMAP LAYOUT"
   ]
  },
  {
   "cell_type": "code",
   "execution_count": 14,
   "metadata": {},
   "outputs": [],
   "source": [
    "ic50 = []\n",
    "labels = []\n",
    "molecular_weight = []\n",
    "Substructure_group = []\n",
    "chembl_url = \"https://www.ebi.ac.uk/chembl/compound_report_card/\"\n",
    "pubchem_url = \"https://pubchem.ncbi.nlm.nih.gov/compound/\"\n",
    "\n",
    "for i, row in data.iterrows():\n",
    "    smiles = row['SMILES']\n",
    "    mol = AllChem.MolFromSmiles(smiles)\n",
    "    cid = str(row['CID'])\n",
    "    if cid[-1].isalpha():\n",
    "        cid = cid[:-1]\n",
    "    \n",
    "    labels.append(\n",
    "            f'{smiles}__<a href=\"{pubchem_url+str(cid)}\" target=\"_blank\">{smiles}</a>__{smiles}'.replace(\n",
    "                \"'\", \"\"\n",
    "            )\n",
    "        )\n",
    "    ic50.append(row['IC50 (uM)'])\n",
    "    #Molecular weight\n",
    "    smiles_mw = ExactMolWt(mol)\n",
    "    molecular_weight.append(smiles_mw)"
   ]
  },
  {
   "cell_type": "markdown",
   "metadata": {},
   "source": [
    "Lưu labels các chất"
   ]
  },
  {
   "cell_type": "code",
   "execution_count": 19,
   "metadata": {},
   "outputs": [
    {
     "data": {
      "text/html": [
       "<div>\n",
       "<style scoped>\n",
       "    .dataframe tbody tr th:only-of-type {\n",
       "        vertical-align: middle;\n",
       "    }\n",
       "\n",
       "    .dataframe tbody tr th {\n",
       "        vertical-align: top;\n",
       "    }\n",
       "\n",
       "    .dataframe thead th {\n",
       "        text-align: right;\n",
       "    }\n",
       "</style>\n",
       "<table border=\"1\" class=\"dataframe\">\n",
       "  <thead>\n",
       "    <tr style=\"text-align: right;\">\n",
       "      <th></th>\n",
       "      <th>Substructure</th>\n",
       "    </tr>\n",
       "  </thead>\n",
       "  <tbody>\n",
       "    <tr>\n",
       "      <th>0</th>\n",
       "      <td>Imidazole</td>\n",
       "    </tr>\n",
       "    <tr>\n",
       "      <th>1</th>\n",
       "      <td>Imidazole</td>\n",
       "    </tr>\n",
       "    <tr>\n",
       "      <th>2</th>\n",
       "      <td>Other</td>\n",
       "    </tr>\n",
       "    <tr>\n",
       "      <th>3</th>\n",
       "      <td>Imidazole</td>\n",
       "    </tr>\n",
       "    <tr>\n",
       "      <th>4</th>\n",
       "      <td>Imidazole</td>\n",
       "    </tr>\n",
       "    <tr>\n",
       "      <th>...</th>\n",
       "      <td>...</td>\n",
       "    </tr>\n",
       "    <tr>\n",
       "      <th>3343</th>\n",
       "      <td>1H-indazole</td>\n",
       "    </tr>\n",
       "    <tr>\n",
       "      <th>3344</th>\n",
       "      <td>1H-indazole</td>\n",
       "    </tr>\n",
       "    <tr>\n",
       "      <th>3345</th>\n",
       "      <td>1H-indazole</td>\n",
       "    </tr>\n",
       "    <tr>\n",
       "      <th>3346</th>\n",
       "      <td>1H-indazole</td>\n",
       "    </tr>\n",
       "    <tr>\n",
       "      <th>3347</th>\n",
       "      <td>1H-indazole</td>\n",
       "    </tr>\n",
       "  </tbody>\n",
       "</table>\n",
       "<p>3348 rows × 1 columns</p>\n",
       "</div>"
      ],
      "text/plain": [
       "     Substructure\n",
       "0       Imidazole\n",
       "1       Imidazole\n",
       "2           Other\n",
       "3       Imidazole\n",
       "4       Imidazole\n",
       "...           ...\n",
       "3343  1H-indazole\n",
       "3344  1H-indazole\n",
       "3345  1H-indazole\n",
       "3346  1H-indazole\n",
       "3347  1H-indazole\n",
       "\n",
       "[3348 rows x 1 columns]"
      ]
     },
     "execution_count": 19,
     "metadata": {},
     "output_type": "execute_result"
    }
   ],
   "source": [
    "Substructure_classifier_groups = data.iloc[:, 4:5]\n",
    "Substructure_classifier_groups"
   ]
  },
  {
   "cell_type": "code",
   "execution_count": 15,
   "metadata": {},
   "outputs": [
    {
     "name": "stdout",
     "output_type": "stream",
     "text": [
      "3348 3348 3348\n"
     ]
    }
   ],
   "source": [
    "print(len(ic50),len(labels),len(molecular_weight))"
   ]
  },
  {
   "cell_type": "markdown",
   "metadata": {},
   "source": [
    "Preprocessing the groups labels"
   ]
  },
  {
   "cell_type": "code",
   "execution_count": 23,
   "metadata": {},
   "outputs": [],
   "source": [
    "import scipy.stats as ss\n",
    "# Create the labels and the integer encoded array for the groups,\n",
    "# as they're categorical\n",
    "Substructure_labels_groups, Substructure_groups = Faerun.create_categories(Substructure_classifier_groups)\n",
    "#scale IC50\n",
    "ic50_ranked = ss.rankdata(np.array(ic50) / max(ic50)) / len(ic50)\n",
    "mw_ranked = ss.rankdata(np.array(molecular_weight) / max(molecular_weight)) / len(molecular_weight)\n"
   ]
  },
  {
   "cell_type": "markdown",
   "metadata": {},
   "source": [
    "Layout the map"
   ]
  },
  {
   "cell_type": "code",
   "execution_count": 21,
   "metadata": {},
   "outputs": [],
   "source": [
    "bits = 1024\n",
    "k = 300\n",
    "enc = tmap.Minhash(bits)\n",
    "lf = tmap.LSHForest(bits, 128)\n",
    "lf.batch_add(enc.batch_from_binary_array(fps))\n",
    "lf.index()\n",
    "cfg = tmap.LayoutConfiguration()\n",
    "cfg.k = k\n",
    "cfg.sl_repeats = 2\n",
    "cfg.mmm_repeats = 2\n",
    "cfg.node_size = 2\n",
    "x, y, s, t, _ = tmap.layout_from_lsh_forest(lf, config=cfg)"
   ]
  },
  {
   "cell_type": "code",
   "execution_count": 22,
   "metadata": {},
   "outputs": [
    {
     "data": {
      "text/plain": [
       "3348"
      ]
     },
     "execution_count": 22,
     "metadata": {},
     "output_type": "execute_result"
    }
   ],
   "source": [
    "len(x)"
   ]
  },
  {
   "cell_type": "markdown",
   "metadata": {},
   "source": [
    "Draw the map"
   ]
  },
  {
   "cell_type": "code",
   "execution_count": 25,
   "metadata": {},
   "outputs": [
    {
     "data": {
      "text/html": [
       "\n",
       "        <iframe\n",
       "            width=\"100%\"\n",
       "            height=\"500\"\n",
       "            src=\"/home/tuele/code/Tmap.html\"\n",
       "            frameborder=\"0\"\n",
       "            allowfullscreen\n",
       "            \n",
       "        ></iframe>\n",
       "        "
      ],
      "text/plain": [
       "<IPython.lib.display.IFrame at 0x7f69696610a0>"
      ]
     },
     "metadata": {},
     "output_type": "display_data"
    },
    {
     "data": {
      "text/html": [
       "<a href='/home/tuele/code/Tmap.html' target='_blank'>/home/tuele/code/Tmap.html</a><br>"
      ],
      "text/plain": [
       "/home/tuele/code/Tmap.html"
      ]
     },
     "metadata": {},
     "output_type": "display_data"
    }
   ],
   "source": [
    "faerun = Faerun(view=\"front\", clear_color=\"#e3d8c3\", coords=False)\n",
    "custom_cmap = ListedColormap(\n",
    "    [\"#1f77b4\", \"#ff7f0e\", \"#2ca02c\", \"#d62728\", \"#9467bd\", \n",
    "     \"#8c564b\", \"#e377c2\", \"#7f7f7f\", \"#bcbd22\", \"#17becf\", \n",
    "     \"#000080\", \"#fcec03\"],\n",
    "    name=\"custom\",\n",
    ")\n",
    "\n",
    "faerun.add_scatter(\n",
    "        \"chembl\",\n",
    "        {\"x\": x, \n",
    "         \"y\": y, \n",
    "         \"c\": [Substructure_groups, ic50_ranked, mw_ranked], \n",
    "         \"labels\": labels},\n",
    "        colormap=[ custom_cmap, \"viridis\", \"viridis\"],\n",
    "        #colormap=[custom_cmap, custom_cmap, custom_cmap, \"viridis\", \"viridis\"],\n",
    "        point_scale=4.5,\n",
    "        max_point_size=10,\n",
    "        has_legend=True,\n",
    "        #categorical=[True, True, True, False, False],\n",
    "        categorical=[True, False, False],\n",
    "        shader=\"smoothCircle\",\n",
    "        #legend_labels=[zgb_labels_groups, belong_labels_groups, activity_labels_groups],\n",
    "        legend_labels = [Substructure_labels_groups],\n",
    "        selected_labels=[\"SMILES\", \"PubChem CID\", \"Name\"],\n",
    "        series_title=[\"IC50 (nM)\", \"Molecular Weight\"],\n",
    "        #max_legend_label=[None, None, None, str(round(max(ic50))), str(round(max(molecular_weight)))],\n",
    "        max_legend_label=[None, str(round(max(ic50))), str(round(max(molecular_weight)))],\n",
    "        #min_legend_label=[None, None, None, str(round(min(ic50))), str(round(min(molecular_weight)))],\n",
    "        min_legend_label=[None, str(round(min(ic50))), str(round(min(molecular_weight)))],\n",
    "        title_index=2,\n",
    "        legend_title=\"\"\n",
    "    )\n",
    "faerun.add_tree(\n",
    "    \"pubchem_tree\", {\"from\": s, \"to\": t}, point_helper=\"chembl\", color=\"#222222\"\n",
    ")\n",
    "file_name = \"/home/tuele/code/Tmap\"\n",
    "faerun.plot(file_name=file_name, template=\"smiles\")"
   ]
  }
 ],
 "metadata": {
  "kernelspec": {
   "display_name": "tmap_env",
   "language": "python",
   "name": "python3"
  },
  "language_info": {
   "codemirror_mode": {
    "name": "ipython",
    "version": 3
   },
   "file_extension": ".py",
   "mimetype": "text/x-python",
   "name": "python",
   "nbconvert_exporter": "python",
   "pygments_lexer": "ipython3",
   "version": "3.9.18"
  }
 },
 "nbformat": 4,
 "nbformat_minor": 2
}
