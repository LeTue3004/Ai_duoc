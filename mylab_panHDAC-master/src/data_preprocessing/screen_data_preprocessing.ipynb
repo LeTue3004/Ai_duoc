{
 "cells": [
  {
   "cell_type": "code",
   "execution_count": 1,
   "metadata": {},
   "outputs": [],
   "source": [
    "from rdkit.Chem import AllChem\n",
    "from rdkit import Chem\n",
    "from rdkit.Chem import Descriptors, MACCSkeys\n",
    "from rdkit.ML.Descriptors import MoleculeDescriptors\n",
    "\n",
    "import pandas as pd\n",
    "import numpy as np\n",
    "import matplotlib.pyplot as plt\n",
    "import seaborn as sns\n",
    "from tabulate import tabulate\n",
    "import sys\n",
    "sys.path.append(\"/home/mylab-pharma/Code/tuele/pan_HDAC/mylab_panHDAC-master/src/common\")\n",
    "from pharmacy_common import PharmacyCommon\n",
    "#class to encode smiles\n",
    "common = PharmacyCommon()\n",
    "from tqdm import tqdm"
   ]
  },
  {
   "cell_type": "markdown",
   "metadata": {},
   "source": [
    "Import screening data"
   ]
  },
  {
   "cell_type": "code",
   "execution_count": 13,
   "metadata": {},
   "outputs": [],
   "source": [
    "emolecules_data_path = \"../../data/screening_data/emolecules.csv\"\n",
    "emolecules_data = pd.read_csv(emolecules_data_path)\n",
    "enamine_hits_data_path = \"../../data/screening_data/enamine_hits.csv\"\n",
    "enamine_hits_data = pd.read_csv(enamine_hits_data_path)\n",
    "Pubchem_DB_data_path = \"../../data/screening_data/Pubchem_DB.csv\"\n",
    "Pubchem_DB_data = pd.read_csv(Pubchem_DB_data_path)\n",
    "all_screen_dataset = pd.concat([emolecules_data, enamine_hits_data, Pubchem_DB_data], axis = 0)"
   ]
  },
  {
   "cell_type": "code",
   "execution_count": 14,
   "metadata": {},
   "outputs": [
    {
     "data": {
      "text/plain": [
       "(65067, 460160, 59470, 584697)"
      ]
     },
     "execution_count": 14,
     "metadata": {},
     "output_type": "execute_result"
    }
   ],
   "source": [
    "len(emolecules_data), len(enamine_hits_data), len(Pubchem_DB_data), len(all_screen_dataset)"
   ]
  },
  {
   "cell_type": "code",
   "execution_count": 15,
   "metadata": {},
   "outputs": [
    {
     "data": {
      "text/html": [
       "<div>\n",
       "<style scoped>\n",
       "    .dataframe tbody tr th:only-of-type {\n",
       "        vertical-align: middle;\n",
       "    }\n",
       "\n",
       "    .dataframe tbody tr th {\n",
       "        vertical-align: top;\n",
       "    }\n",
       "\n",
       "    .dataframe thead th {\n",
       "        text-align: right;\n",
       "    }\n",
       "</style>\n",
       "<table border=\"1\" class=\"dataframe\">\n",
       "  <thead>\n",
       "    <tr style=\"text-align: right;\">\n",
       "      <th></th>\n",
       "      <th>CID</th>\n",
       "      <th>SMILES</th>\n",
       "    </tr>\n",
       "  </thead>\n",
       "  <tbody>\n",
       "    <tr>\n",
       "      <th>0</th>\n",
       "      <td>33508570</td>\n",
       "      <td>O=C1CCON1</td>\n",
       "    </tr>\n",
       "    <tr>\n",
       "      <th>1</th>\n",
       "      <td>29918552</td>\n",
       "      <td>CCC(=O)NO</td>\n",
       "    </tr>\n",
       "    <tr>\n",
       "      <th>2</th>\n",
       "      <td>538665</td>\n",
       "      <td>NCC(=O)NO</td>\n",
       "    </tr>\n",
       "    <tr>\n",
       "      <th>3</th>\n",
       "      <td>516063</td>\n",
       "      <td>CON(C)C(C)=O</td>\n",
       "    </tr>\n",
       "    <tr>\n",
       "      <th>4</th>\n",
       "      <td>480512</td>\n",
       "      <td>ON1C(=O)CCC1=O</td>\n",
       "    </tr>\n",
       "    <tr>\n",
       "      <th>5</th>\n",
       "      <td>480512</td>\n",
       "      <td>ON1C(=O)CCC1=O</td>\n",
       "    </tr>\n",
       "    <tr>\n",
       "      <th>6</th>\n",
       "      <td>42774990</td>\n",
       "      <td>CC1(C)CONC1=O</td>\n",
       "    </tr>\n",
       "    <tr>\n",
       "      <th>7</th>\n",
       "      <td>4864824</td>\n",
       "      <td>CC(C)(C)C(=O)NO</td>\n",
       "    </tr>\n",
       "    <tr>\n",
       "      <th>8</th>\n",
       "      <td>32281505</td>\n",
       "      <td>CCC(=O)N(C)OC</td>\n",
       "    </tr>\n",
       "    <tr>\n",
       "      <th>9</th>\n",
       "      <td>40180491</td>\n",
       "      <td>CCC(N)C(=O)NO</td>\n",
       "    </tr>\n",
       "  </tbody>\n",
       "</table>\n",
       "</div>"
      ],
      "text/plain": [
       "        CID           SMILES\n",
       "0  33508570        O=C1CCON1\n",
       "1  29918552        CCC(=O)NO\n",
       "2    538665        NCC(=O)NO\n",
       "3    516063     CON(C)C(C)=O\n",
       "4    480512   ON1C(=O)CCC1=O\n",
       "5    480512   ON1C(=O)CCC1=O\n",
       "6  42774990    CC1(C)CONC1=O\n",
       "7   4864824  CC(C)(C)C(=O)NO\n",
       "8  32281505    CCC(=O)N(C)OC\n",
       "9  40180491    CCC(N)C(=O)NO"
      ]
     },
     "execution_count": 15,
     "metadata": {},
     "output_type": "execute_result"
    }
   ],
   "source": [
    "all_screen_dataset.head(10)"
   ]
  },
  {
   "cell_type": "markdown",
   "metadata": {},
   "source": [
    "Checking Duplicate SMILES"
   ]
  },
  {
   "cell_type": "code",
   "execution_count": 16,
   "metadata": {},
   "outputs": [],
   "source": [
    "smiles_col_name = \"SMILES\"\n",
    "cid_col_name = \"CID\""
   ]
  },
  {
   "cell_type": "code",
   "execution_count": 17,
   "metadata": {},
   "outputs": [],
   "source": [
    "screening_smiles = all_screen_dataset[\"SMILES\"].unique()"
   ]
  },
  {
   "cell_type": "code",
   "execution_count": 18,
   "metadata": {},
   "outputs": [
    {
     "data": {
      "text/plain": [
       "542907"
      ]
     },
     "execution_count": 18,
     "metadata": {},
     "output_type": "execute_result"
    }
   ],
   "source": [
    "len(screening_smiles)"
   ]
  },
  {
   "cell_type": "markdown",
   "metadata": {},
   "source": [
    "Checking if the SMILES are encodedable"
   ]
  },
  {
   "cell_type": "code",
   "execution_count": 19,
   "metadata": {},
   "outputs": [
    {
     "name": "stderr",
     "output_type": "stream",
     "text": [
      "Progress:   0%|          | 0/542907 [00:00<?, ?it/s]"
     ]
    },
    {
     "name": "stderr",
     "output_type": "stream",
     "text": [
      "Progress:   0%|          | 2036/542907 [00:00<03:19, 2716.15it/s][22:23:28] Explicit valence for atom # 14 N, 4, is greater than permitted\n",
      "[22:23:28] Explicit valence for atom # 13 N, 4, is greater than permitted\n",
      "[22:23:28] Explicit valence for atom # 15 N, 4, is greater than permitted\n",
      "Progress:   1%|          | 2898/542907 [00:01<03:27, 2602.16it/s][22:23:28] Explicit valence for atom # 16 N, 4, is greater than permitted\n",
      "Progress:   1%|          | 3710/542907 [00:01<03:28, 2581.32it/s][22:23:29] Explicit valence for atom # 16 N, 4, is greater than permitted\n",
      "[22:23:29] Explicit valence for atom # 15 N, 4, is greater than permitted\n",
      "[22:23:29] Explicit valence for atom # 17 N, 4, is greater than permitted\n",
      "Progress:   1%|          | 4518/542907 [00:01<03:31, 2545.16it/s][22:23:29] Explicit valence for atom # 16 N, 4, is greater than permitted\n",
      "Progress:   1%|          | 5034/542907 [00:01<03:36, 2488.83it/s][22:23:29] Explicit valence for atom # 18 N, 4, is greater than permitted\n",
      "Progress:   1%|          | 5553/542907 [00:02<03:37, 2467.06it/s][22:23:29] Explicit valence for atom # 14 N, 4, is greater than permitted\n",
      "[22:23:29] Explicit valence for atom # 13 N, 4, is greater than permitted\n",
      "Progress:   1%|          | 6045/542907 [00:02<03:47, 2357.50it/s][22:23:30] Explicit valence for atom # 11 N, 4, is greater than permitted\n",
      "[22:23:30] Explicit valence for atom # 19 N, 4, is greater than permitted\n",
      "Progress:   1%|▏         | 6817/542907 [00:02<03:35, 2491.76it/s][22:23:30] Explicit valence for atom # 18 N, 4, is greater than permitted\n",
      "[22:23:30] Explicit valence for atom # 15 N, 4, is greater than permitted\n",
      "[22:23:30] Explicit valence for atom # 19 N, 4, is greater than permitted\n",
      "[22:23:30] Explicit valence for atom # 19 N, 4, is greater than permitted\n",
      "Progress:   1%|▏         | 7302/542907 [00:02<03:53, 2293.61it/s][22:23:30] Explicit valence for atom # 15 N, 4, is greater than permitted\n",
      "[22:23:30] Explicit valence for atom # 18 N, 4, is greater than permitted\n",
      "Progress:   1%|▏         | 8110/542907 [00:03<03:29, 2557.97it/s][22:23:30] Explicit valence for atom # 20 N, 4, is greater than permitted\n",
      "[22:23:30] Explicit valence for atom # 17 N, 4, is greater than permitted\n",
      "[22:23:31] Explicit valence for atom # 17 N, 4, is greater than permitted\n",
      "Progress:   2%|▏         | 8368/542907 [00:03<03:29, 2550.36it/s][22:23:31] Explicit valence for atom # 20 N, 4, is greater than permitted\n",
      "[22:23:31] Explicit valence for atom # 20 N, 4, is greater than permitted\n",
      "Progress:   2%|▏         | 8639/542907 [00:03<03:25, 2595.31it/s][22:23:31] Explicit valence for atom # 15 N, 4, is greater than permitted\n",
      "Progress:   2%|▏         | 8911/542907 [00:03<03:23, 2629.69it/s][22:23:31] Explicit valence for atom # 12 N, 4, is greater than permitted\n",
      "Progress:   2%|▏         | 9175/542907 [00:03<03:32, 2512.01it/s][22:23:31] Explicit valence for atom # 13 N, 4, is greater than permitted\n",
      "Progress:   2%|▏         | 9428/542907 [00:03<03:45, 2370.52it/s][22:23:31] Explicit valence for atom # 16 N, 4, is greater than permitted\n",
      "Progress:   2%|▏         | 10980/542907 [00:04<03:38, 2436.85it/s][22:23:32] Explicit valence for atom # 16 N, 4, is greater than permitted\n",
      "Progress:   2%|▏         | 12208/542907 [00:04<03:48, 2323.02it/s][22:23:32] Explicit valence for atom # 15 N, 4, is greater than permitted\n",
      "[22:23:32] Explicit valence for atom # 17 N, 4, is greater than permitted\n",
      "Progress:   2%|▏         | 12703/542907 [00:05<03:51, 2287.20it/s][22:23:32] Explicit valence for atom # 18 N, 4, is greater than permitted\n",
      "Progress:   3%|▎         | 16330/542907 [00:06<03:53, 2257.82it/s][22:23:34] Explicit valence for atom # 16 N, 4, is greater than permitted\n",
      "[22:23:34] Explicit valence for atom # 20 N, 4, is greater than permitted\n",
      "Progress:   3%|▎         | 17042/542907 [00:06<03:48, 2300.44it/s][22:23:34] Explicit valence for atom # 19 N, 4, is greater than permitted\n",
      "Progress:   3%|▎         | 17990/542907 [00:07<03:49, 2289.27it/s][22:23:35] Explicit valence for atom # 21 N, 4, is greater than permitted\n",
      "Progress:   3%|▎         | 18699/542907 [00:07<03:47, 2308.11it/s][22:23:35] Explicit valence for atom # 13 N, 4, is greater than permitted\n",
      "Progress:   4%|▍         | 21385/542907 [00:08<03:39, 2373.60it/s][22:23:36] Explicit valence for atom # 19 N, 4, is greater than permitted\n",
      "Progress:  89%|████████▉ | 483309/542907 [02:50<00:19, 3000.21it/s][22:26:18] WARNING: not removing hydrogen atom without neighbors\n",
      "Progress:  91%|█████████ | 495172/542907 [02:54<00:15, 3090.47it/s][22:26:21] WARNING: not removing hydrogen atom without neighbors\n",
      "Progress:  94%|█████████▍| 511925/542907 [02:59<00:08, 3486.23it/s][22:26:26] WARNING: not removing hydrogen atom without neighbors\n",
      "Progress:  96%|█████████▌| 519019/542907 [03:01<00:07, 3102.31it/s][22:26:29] WARNING: not removing hydrogen atom without neighbors\n",
      "Progress:  99%|█████████▉| 538900/542907 [03:07<00:01, 2935.51it/s][22:26:35] WARNING: not removing hydrogen atom without neighbors\n",
      "Progress: 100%|█████████▉| 542565/542907 [03:09<00:00, 3195.55it/s][22:26:36] WARNING: not removing hydrogen atom without neighbors\n",
      "Progress: 100%|██████████| 542907/542907 [03:09<00:00, 2869.61it/s]\n"
     ]
    }
   ],
   "source": [
    "import numpy as np\n",
    "import pandas as pd\n",
    "from rdkit import Chem\n",
    "from rdkit.Chem import AllChem\n",
    "from tqdm import tqdm\n",
    "\n",
    "def check_encodable(data) -> np.ndarray:\n",
    "    result = []\n",
    "    error_data = []\n",
    "    with tqdm(total=len(data), desc='Progress') as pbar:\n",
    "        for i in data:\n",
    "            try:\n",
    "                mol = Chem.MolFromSmiles(i)\n",
    "                fpts = np.array(AllChem.GetMorganFingerprintAsBitVect(mol, 2,1024))\n",
    "                result.append(i)\n",
    "            except:\n",
    "                error_data.append(i)\n",
    "            pbar.update(1)  # Update the progress bar\n",
    "    return result, error_data\n",
    "encodable_smile, error_smile = check_encodable(screening_smiles)"
   ]
  },
  {
   "cell_type": "code",
   "execution_count": 20,
   "metadata": {},
   "outputs": [
    {
     "name": "stdout",
     "output_type": "stream",
     "text": [
      "542869 38\n"
     ]
    }
   ],
   "source": [
    "print(len(encodable_smile), len(error_smile)) "
   ]
  },
  {
   "cell_type": "code",
   "execution_count": 21,
   "metadata": {},
   "outputs": [
    {
     "name": "stderr",
     "output_type": "stream",
     "text": [
      "Progress:   0%|          | 0/542869 [00:00<?, ?it/s]"
     ]
    },
    {
     "name": "stderr",
     "output_type": "stream",
     "text": [
      "Progress:  89%|████████▉ | 483218/542869 [02:41<00:20, 2941.25it/s][22:30:54] WARNING: not removing hydrogen atom without neighbors\n",
      "Progress:  91%|█████████ | 495147/542869 [02:45<00:15, 3032.45it/s][22:30:58] WARNING: not removing hydrogen atom without neighbors\n",
      "Progress:  94%|█████████▍| 511906/542869 [02:50<00:09, 3424.16it/s][22:31:03] WARNING: not removing hydrogen atom without neighbors\n",
      "Progress:  96%|█████████▌| 518877/542869 [02:52<00:07, 3061.24it/s][22:31:05] WARNING: not removing hydrogen atom without neighbors\n",
      "Progress:  99%|█████████▉| 538682/542869 [02:59<00:01, 2898.96it/s][22:31:12] WARNING: not removing hydrogen atom without neighbors\n",
      "Progress: 100%|█████████▉| 542589/542869 [03:00<00:00, 3137.71it/s][22:31:13] WARNING: not removing hydrogen atom without neighbors\n",
      "Progress: 100%|██████████| 542869/542869 [03:00<00:00, 3009.78it/s]\n"
     ]
    },
    {
     "data": {
      "text/html": [
       "<div>\n",
       "<style scoped>\n",
       "    .dataframe tbody tr th:only-of-type {\n",
       "        vertical-align: middle;\n",
       "    }\n",
       "\n",
       "    .dataframe tbody tr th {\n",
       "        vertical-align: top;\n",
       "    }\n",
       "\n",
       "    .dataframe thead th {\n",
       "        text-align: right;\n",
       "    }\n",
       "</style>\n",
       "<table border=\"1\" class=\"dataframe\">\n",
       "  <thead>\n",
       "    <tr style=\"text-align: right;\">\n",
       "      <th></th>\n",
       "      <th>SMILES</th>\n",
       "    </tr>\n",
       "  </thead>\n",
       "  <tbody>\n",
       "    <tr>\n",
       "      <th>0</th>\n",
       "      <td>O=C1CCON1</td>\n",
       "    </tr>\n",
       "    <tr>\n",
       "      <th>1</th>\n",
       "      <td>CCC(=O)NO</td>\n",
       "    </tr>\n",
       "    <tr>\n",
       "      <th>2</th>\n",
       "      <td>NCC(=O)NO</td>\n",
       "    </tr>\n",
       "    <tr>\n",
       "      <th>3</th>\n",
       "      <td>CON(C)C(C)=O</td>\n",
       "    </tr>\n",
       "    <tr>\n",
       "      <th>4</th>\n",
       "      <td>ON1C(=O)CCC1=O</td>\n",
       "    </tr>\n",
       "  </tbody>\n",
       "</table>\n",
       "</div>"
      ],
      "text/plain": [
       "           SMILES\n",
       "0       O=C1CCON1\n",
       "1       CCC(=O)NO\n",
       "2       NCC(=O)NO\n",
       "3    CON(C)C(C)=O\n",
       "4  ON1C(=O)CCC1=O"
      ]
     },
     "execution_count": 21,
     "metadata": {},
     "output_type": "execute_result"
    }
   ],
   "source": [
    "encoded_df = pd.DataFrame({\"SMILES\": encodable_smile})\n",
    "check_encode = common.gen_ecfp4_fpts(encoded_df[\"SMILES\"],1024)\n",
    "encoded_df.head()\n"
   ]
  },
  {
   "cell_type": "code",
   "execution_count": 22,
   "metadata": {},
   "outputs": [
    {
     "data": {
      "text/html": [
       "<div>\n",
       "<style scoped>\n",
       "    .dataframe tbody tr th:only-of-type {\n",
       "        vertical-align: middle;\n",
       "    }\n",
       "\n",
       "    .dataframe tbody tr th {\n",
       "        vertical-align: top;\n",
       "    }\n",
       "\n",
       "    .dataframe thead th {\n",
       "        text-align: right;\n",
       "    }\n",
       "</style>\n",
       "<table border=\"1\" class=\"dataframe\">\n",
       "  <thead>\n",
       "    <tr style=\"text-align: right;\">\n",
       "      <th></th>\n",
       "      <th>SMILES</th>\n",
       "    </tr>\n",
       "  </thead>\n",
       "  <tbody>\n",
       "    <tr>\n",
       "      <th>0</th>\n",
       "      <td>CON(C)C(=O)c1cccc(OCC[NH]2CCCC2)c1</td>\n",
       "    </tr>\n",
       "    <tr>\n",
       "      <th>1</th>\n",
       "      <td>CON(C)C(=O)c1ccc(OCC[NH]2CCCC2)cc1</td>\n",
       "    </tr>\n",
       "    <tr>\n",
       "      <th>2</th>\n",
       "      <td>CON(C)C(=O)c1ccccc1OCC[NH]1CCCC1</td>\n",
       "    </tr>\n",
       "    <tr>\n",
       "      <th>3</th>\n",
       "      <td>CON(C)C(=O)c1cccc(C)c1OCC[NH]1CCCC1</td>\n",
       "    </tr>\n",
       "    <tr>\n",
       "      <th>4</th>\n",
       "      <td>CON(C)C(=O)C=Cc1cccc(OCC[NH]2CCCC2)c1</td>\n",
       "    </tr>\n",
       "    <tr>\n",
       "      <th>5</th>\n",
       "      <td>CON(C)C(=O)C=Cc1ccc(OCC[NH]2CCCC2)cc1</td>\n",
       "    </tr>\n",
       "    <tr>\n",
       "      <th>6</th>\n",
       "      <td>CON(C)C(=O)C=Cc1ccccc1OCC[NH]1CCCC1</td>\n",
       "    </tr>\n",
       "    <tr>\n",
       "      <th>7</th>\n",
       "      <td>CON(C)C(=O)c1cc(Cl)ccc1OCC[NH]1CCCC1</td>\n",
       "    </tr>\n",
       "    <tr>\n",
       "      <th>8</th>\n",
       "      <td>CON(C)C(=O)C=Cc1cc(C)ccc1OCC[NH]1CCCC1</td>\n",
       "    </tr>\n",
       "    <tr>\n",
       "      <th>9</th>\n",
       "      <td>CON(C)C(=O)c1ccc(c(OCC[NH]2CCCC2)c1)[N+]([O-])=O</td>\n",
       "    </tr>\n",
       "  </tbody>\n",
       "</table>\n",
       "</div>"
      ],
      "text/plain": [
       "                                             SMILES\n",
       "0                CON(C)C(=O)c1cccc(OCC[NH]2CCCC2)c1\n",
       "1                CON(C)C(=O)c1ccc(OCC[NH]2CCCC2)cc1\n",
       "2                  CON(C)C(=O)c1ccccc1OCC[NH]1CCCC1\n",
       "3               CON(C)C(=O)c1cccc(C)c1OCC[NH]1CCCC1\n",
       "4             CON(C)C(=O)C=Cc1cccc(OCC[NH]2CCCC2)c1\n",
       "5             CON(C)C(=O)C=Cc1ccc(OCC[NH]2CCCC2)cc1\n",
       "6               CON(C)C(=O)C=Cc1ccccc1OCC[NH]1CCCC1\n",
       "7              CON(C)C(=O)c1cc(Cl)ccc1OCC[NH]1CCCC1\n",
       "8            CON(C)C(=O)C=Cc1cc(C)ccc1OCC[NH]1CCCC1\n",
       "9  CON(C)C(=O)c1ccc(c(OCC[NH]2CCCC2)c1)[N+]([O-])=O"
      ]
     },
     "execution_count": 22,
     "metadata": {},
     "output_type": "execute_result"
    }
   ],
   "source": [
    "error_data = pd.DataFrame({\"SMILES\":error_smile})\n",
    "error_data.head(10)"
   ]
  },
  {
   "cell_type": "markdown",
   "metadata": {},
   "source": [
    "Write to file"
   ]
  },
  {
   "cell_type": "code",
   "execution_count": 25,
   "metadata": {},
   "outputs": [
    {
     "data": {
      "text/plain": [
       "542869"
      ]
     },
     "execution_count": 25,
     "metadata": {},
     "output_type": "execute_result"
    }
   ],
   "source": [
    "len(encoded_df)"
   ]
  },
  {
   "cell_type": "code",
   "execution_count": 26,
   "metadata": {},
   "outputs": [
    {
     "name": "stdout",
     "output_type": "stream",
     "text": [
      "Tập dữ liệu con 1 có 25000 hàng\n",
      "Tập dữ liệu con 2 có 25000 hàng\n",
      "Tập dữ liệu con 3 có 25000 hàng\n",
      "Tập dữ liệu con 4 có 25000 hàng\n",
      "Tập dữ liệu con 5 có 25000 hàng\n",
      "Tập dữ liệu con 6 có 25000 hàng\n",
      "Tập dữ liệu con 7 có 25000 hàng\n",
      "Tập dữ liệu con 8 có 25000 hàng\n",
      "Tập dữ liệu con 9 có 25000 hàng\n",
      "Tập dữ liệu con 10 có 25000 hàng\n",
      "Tập dữ liệu con 11 có 25000 hàng\n",
      "Tập dữ liệu con 12 có 25000 hàng\n",
      "Tập dữ liệu con 13 có 25000 hàng\n",
      "Tập dữ liệu con 14 có 25000 hàng\n",
      "Tập dữ liệu con 15 có 25000 hàng\n",
      "Tập dữ liệu con 16 có 25000 hàng\n",
      "Tập dữ liệu con 17 có 25000 hàng\n",
      "Tập dữ liệu con 18 có 25000 hàng\n",
      "Tập dữ liệu con 19 có 25000 hàng\n",
      "Tập dữ liệu con 20 có 25000 hàng\n",
      "Tập dữ liệu con 21 có 25000 hàng\n",
      "Tập dữ liệu con 22 có 17869 hàng\n"
     ]
    }
   ],
   "source": [
    "# Tính tổng số hàng trong tập dữ liệu\n",
    "total_rows = len(encoded_df)\n",
    "\n",
    "# Tính số lượng tập con cần chia\n",
    "num_splits = (total_rows // 25000) + (1 if total_rows % 25000 != 0 else 0)\n",
    "\n",
    "# Chia tập dữ liệu thành các tập con\n",
    "data_splits = []\n",
    "for i in range(num_splits):\n",
    "    start = i * 25000\n",
    "    end = min((i + 1) * 25000, total_rows)\n",
    "    data_splits.append(encoded_df.iloc[start:end])\n",
    "\n",
    "# Các tập dữ liệu con được lưu trong danh sách `data_splits`\n",
    "# Bây giờ bạn có thể sử dụng chúng theo cách mình muốn\n",
    "for i, split in enumerate(data_splits):\n",
    "    print(f\"Tập dữ liệu con {i+1} có {len(split)} hàng\")"
   ]
  },
  {
   "cell_type": "code",
   "execution_count": 27,
   "metadata": {},
   "outputs": [
    {
     "data": {
      "text/html": [
       "<div>\n",
       "<style scoped>\n",
       "    .dataframe tbody tr th:only-of-type {\n",
       "        vertical-align: middle;\n",
       "    }\n",
       "\n",
       "    .dataframe tbody tr th {\n",
       "        vertical-align: top;\n",
       "    }\n",
       "\n",
       "    .dataframe thead th {\n",
       "        text-align: right;\n",
       "    }\n",
       "</style>\n",
       "<table border=\"1\" class=\"dataframe\">\n",
       "  <thead>\n",
       "    <tr style=\"text-align: right;\">\n",
       "      <th></th>\n",
       "      <th>SMILES</th>\n",
       "    </tr>\n",
       "  </thead>\n",
       "  <tbody>\n",
       "    <tr>\n",
       "      <th>25000</th>\n",
       "      <td>O=C(c1cc(F)ccc1O)N1CCCC(N2CCCS2(=O)=O)C1</td>\n",
       "    </tr>\n",
       "    <tr>\n",
       "      <th>25001</th>\n",
       "      <td>COc1ccccc1CCC(=O)Nc1ccc(N2CCCC2)cn1</td>\n",
       "    </tr>\n",
       "    <tr>\n",
       "      <th>25002</th>\n",
       "      <td>Cc1cccc(C(=O)Nc2cc(C(N)=O)ccc2N2CCCCC2)n1</td>\n",
       "    </tr>\n",
       "    <tr>\n",
       "      <th>25003</th>\n",
       "      <td>O=C(Nc1ccc2nc(CN3CCOCC3)[nH]c2c1)c1cc(Cl)c[nH]1</td>\n",
       "    </tr>\n",
       "    <tr>\n",
       "      <th>25004</th>\n",
       "      <td>Cc1ccc(CNC(=O)NCC#Cc2ccccc2)c(C)c1</td>\n",
       "    </tr>\n",
       "    <tr>\n",
       "      <th>25005</th>\n",
       "      <td>CN(CC(=O)NC1CCc2cc(F)ccc21)c1ccc(C#N)cn1</td>\n",
       "    </tr>\n",
       "    <tr>\n",
       "      <th>25006</th>\n",
       "      <td>COc1ccc(NC(=O)CCN2CCOCC2(C)C)cc1</td>\n",
       "    </tr>\n",
       "    <tr>\n",
       "      <th>25007</th>\n",
       "      <td>CCn1nc(C)c(C(=O)N(C)CC(=O)Nc2cc(C)ccn2)c1C</td>\n",
       "    </tr>\n",
       "    <tr>\n",
       "      <th>25008</th>\n",
       "      <td>CCc1csc(NC(=O)C2CC2c2cccnc2)n1</td>\n",
       "    </tr>\n",
       "    <tr>\n",
       "      <th>25009</th>\n",
       "      <td>Cc1ccc(F)c(NC(=O)C(=O)NCCCN2CCC(O)CC2)c1</td>\n",
       "    </tr>\n",
       "  </tbody>\n",
       "</table>\n",
       "</div>"
      ],
      "text/plain": [
       "                                                SMILES\n",
       "25000         O=C(c1cc(F)ccc1O)N1CCCC(N2CCCS2(=O)=O)C1\n",
       "25001              COc1ccccc1CCC(=O)Nc1ccc(N2CCCC2)cn1\n",
       "25002        Cc1cccc(C(=O)Nc2cc(C(N)=O)ccc2N2CCCCC2)n1\n",
       "25003  O=C(Nc1ccc2nc(CN3CCOCC3)[nH]c2c1)c1cc(Cl)c[nH]1\n",
       "25004               Cc1ccc(CNC(=O)NCC#Cc2ccccc2)c(C)c1\n",
       "25005         CN(CC(=O)NC1CCc2cc(F)ccc21)c1ccc(C#N)cn1\n",
       "25006                 COc1ccc(NC(=O)CCN2CCOCC2(C)C)cc1\n",
       "25007       CCn1nc(C)c(C(=O)N(C)CC(=O)Nc2cc(C)ccn2)c1C\n",
       "25008                   CCc1csc(NC(=O)C2CC2c2cccnc2)n1\n",
       "25009         Cc1ccc(F)c(NC(=O)C(=O)NCCCN2CCC(O)CC2)c1"
      ]
     },
     "execution_count": 27,
     "metadata": {},
     "output_type": "execute_result"
    }
   ],
   "source": [
    "dataset = data_splits[1]\n",
    "dataset.head(10)"
   ]
  },
  {
   "cell_type": "code",
   "execution_count": 12,
   "metadata": {},
   "outputs": [],
   "source": [
    "with pd.ExcelWriter('../../data/screening_data/emolecules_screen_data.xlsx', engine='openpyxl') as writer:\n",
    "    all_screen_dataset.to_excel(writer, sheet_name='original_data', index=False)\n",
    "    encoded_df.to_excel(writer, sheet_name=\"final_screen_data\", index=False)\n",
    "    error_data.to_excel(writer,sheet_name=\"unencoded_smiles\",index=False)\n",
    "    "
   ]
  }
 ],
 "metadata": {
  "kernelspec": {
   "display_name": "tuele-pharma-env",
   "language": "python",
   "name": "python3"
  },
  "language_info": {
   "codemirror_mode": {
    "name": "ipython",
    "version": 3
   },
   "file_extension": ".py",
   "mimetype": "text/x-python",
   "name": "python",
   "nbconvert_exporter": "python",
   "pygments_lexer": "ipython3",
   "version": "3.12.2"
  }
 },
 "nbformat": 4,
 "nbformat_minor": 2
}
