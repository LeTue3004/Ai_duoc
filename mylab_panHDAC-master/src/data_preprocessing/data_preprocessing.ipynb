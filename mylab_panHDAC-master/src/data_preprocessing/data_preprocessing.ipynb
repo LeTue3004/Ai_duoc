{
 "cells": [
  {
   "cell_type": "code",
   "execution_count": 1,
   "metadata": {},
   "outputs": [],
   "source": [
    "from rdkit.Chem import AllChem\n",
    "from rdkit import Chem\n",
    "from rdkit.Chem import Descriptors, MACCSkeys\n",
    "from rdkit.ML.Descriptors import MoleculeDescriptors\n",
    "\n",
    "import pandas as pd\n",
    "import numpy as np\n",
    "import matplotlib.pyplot as plt\n",
    "import seaborn as sns\n",
    "from tabulate import tabulate"
   ]
  },
  {
   "cell_type": "markdown",
   "metadata": {},
   "source": [
    "# Import raw data"
   ]
  },
  {
   "cell_type": "code",
   "execution_count": 4,
   "metadata": {},
   "outputs": [],
   "source": [
    "all_data_path = \"../../data/raw_data/20.3.pan_HDAC.csv\"\n",
    "dataset = pd.read_csv(all_data_path)"
   ]
  },
  {
   "cell_type": "code",
   "execution_count": 5,
   "metadata": {},
   "outputs": [
    {
     "name": "stdout",
     "output_type": "stream",
     "text": [
      "2183\n"
     ]
    },
    {
     "data": {
      "text/html": [
       "<div>\n",
       "<style scoped>\n",
       "    .dataframe tbody tr th:only-of-type {\n",
       "        vertical-align: middle;\n",
       "    }\n",
       "\n",
       "    .dataframe tbody tr th {\n",
       "        vertical-align: top;\n",
       "    }\n",
       "\n",
       "    .dataframe thead th {\n",
       "        text-align: right;\n",
       "    }\n",
       "</style>\n",
       "<table border=\"1\" class=\"dataframe\">\n",
       "  <thead>\n",
       "    <tr style=\"text-align: right;\">\n",
       "      <th></th>\n",
       "      <th>Code</th>\n",
       "      <th>Average IC50</th>\n",
       "      <th>Bioactivity</th>\n",
       "      <th>SMILES</th>\n",
       "      <th>INCHI-KEY</th>\n",
       "    </tr>\n",
       "  </thead>\n",
       "  <tbody>\n",
       "    <tr>\n",
       "      <th>0</th>\n",
       "      <td>11305</td>\n",
       "      <td>236.6</td>\n",
       "      <td>active</td>\n",
       "      <td>ONC(CCCCCCC(Nc1ccccc1)=O)=O</td>\n",
       "      <td>NaN</td>\n",
       "    </tr>\n",
       "    <tr>\n",
       "      <th>1</th>\n",
       "      <td>236556</td>\n",
       "      <td>1556.0</td>\n",
       "      <td>inactive</td>\n",
       "      <td>[O-][N+](c(cc1)ccc1C(NCCCCCC(NO)=O)=O)=O</td>\n",
       "      <td>GDAAHZPABCCCFD-UHFFFAOYSA-N</td>\n",
       "    </tr>\n",
       "    <tr>\n",
       "      <th>2</th>\n",
       "      <td>1352187</td>\n",
       "      <td>12.6</td>\n",
       "      <td>active</td>\n",
       "      <td>[O-][N+](c(cc1)ccc1S([n](cc1)c2c1cc(/C=C/C(NO)...</td>\n",
       "      <td>KAFPWADPNJMVFZ-KRXBUXKQSA-N</td>\n",
       "    </tr>\n",
       "    <tr>\n",
       "      <th>3</th>\n",
       "      <td>418270</td>\n",
       "      <td>1600.0</td>\n",
       "      <td>inactive</td>\n",
       "      <td>[O-][N+](c(cc1)ccc1S(N(CC1)CCN1c1ncc(/C=C/C(NO...</td>\n",
       "      <td>DVMYLPRGYNBANT-ZZXKWVIFSA-N</td>\n",
       "    </tr>\n",
       "    <tr>\n",
       "      <th>4</th>\n",
       "      <td>418245</td>\n",
       "      <td>400.0</td>\n",
       "      <td>inactive</td>\n",
       "      <td>[O-][N+](c(cc1)ccc1S(N(CC1)CCN1c1ncc(C(NO)=O)[...</td>\n",
       "      <td>SINFIJWJVFHMHP-UHFFFAOYSA-N</td>\n",
       "    </tr>\n",
       "  </tbody>\n",
       "</table>\n",
       "</div>"
      ],
      "text/plain": [
       "      Code  Average IC50 Bioactivity  \\\n",
       "0    11305         236.6      active   \n",
       "1   236556        1556.0    inactive   \n",
       "2  1352187          12.6      active   \n",
       "3   418270        1600.0    inactive   \n",
       "4   418245         400.0    inactive   \n",
       "\n",
       "                                              SMILES  \\\n",
       "0                        ONC(CCCCCCC(Nc1ccccc1)=O)=O   \n",
       "1           [O-][N+](c(cc1)ccc1C(NCCCCCC(NO)=O)=O)=O   \n",
       "2  [O-][N+](c(cc1)ccc1S([n](cc1)c2c1cc(/C=C/C(NO)...   \n",
       "3  [O-][N+](c(cc1)ccc1S(N(CC1)CCN1c1ncc(/C=C/C(NO...   \n",
       "4  [O-][N+](c(cc1)ccc1S(N(CC1)CCN1c1ncc(C(NO)=O)[...   \n",
       "\n",
       "                     INCHI-KEY  \n",
       "0                          NaN  \n",
       "1  GDAAHZPABCCCFD-UHFFFAOYSA-N  \n",
       "2  KAFPWADPNJMVFZ-KRXBUXKQSA-N  \n",
       "3  DVMYLPRGYNBANT-ZZXKWVIFSA-N  \n",
       "4  SINFIJWJVFHMHP-UHFFFAOYSA-N  "
      ]
     },
     "execution_count": 5,
     "metadata": {},
     "output_type": "execute_result"
    }
   ],
   "source": [
    "dataset_c = dataset.copy() #Get a copy of the original dataset\n",
    "print(len(dataset_c))\n",
    "dataset_c.head()"
   ]
  },
  {
   "cell_type": "code",
   "execution_count": 6,
   "metadata": {},
   "outputs": [
    {
     "data": {
      "text/plain": [
       "array(['active', 'inactive'], dtype=object)"
      ]
     },
     "execution_count": 6,
     "metadata": {},
     "output_type": "execute_result"
    }
   ],
   "source": [
    "dataset_c[\"Bioactivity\"].unique()"
   ]
  },
  {
   "cell_type": "code",
   "execution_count": 7,
   "metadata": {},
   "outputs": [],
   "source": [
    "activity_col_name = \"Bioactivity\"\n",
    "smiles_col_name = \"SMILES\"\n",
    "cid_col_name = \"MOL_ID\""
   ]
  },
  {
   "cell_type": "code",
   "execution_count": 8,
   "metadata": {},
   "outputs": [],
   "source": [
    "def show_activity_distribution(label, dataset):\n",
    "    #Rows for specific labels\n",
    "    active_rows = dataset.loc[dataset[label] == \"active\"]\n",
    "    inactive_rows = dataset.loc[dataset[label] == \"inactive\"]\n",
    "    dataset_length = len(dataset)\n",
    "    print(\"Total dataset\")\n",
    "    table = [['', 'Active', 'Inactive'], \n",
    "            ['Number', len(active_rows), len(inactive_rows)],\n",
    "            ['Percentage (%)', len(active_rows)/dataset_length, len(inactive_rows)/dataset_length]]\n",
    "    print(tabulate(table, headers='firstrow', tablefmt='fancy_grid'))"
   ]
  },
  {
   "cell_type": "markdown",
   "metadata": {},
   "source": [
    "# Data preprocessing"
   ]
  },
  {
   "cell_type": "markdown",
   "metadata": {},
   "source": [
    "## 1. Check activity distribution"
   ]
  },
  {
   "cell_type": "code",
   "execution_count": 9,
   "metadata": {},
   "outputs": [
    {
     "name": "stdout",
     "output_type": "stream",
     "text": [
      "Total dataset\n",
      "╒════════════════╤═════════════╤═════════════╕\n",
      "│                │      Active │    Inactive │\n",
      "╞════════════════╪═════════════╪═════════════╡\n",
      "│ Number         │ 1006        │ 1177        │\n",
      "├────────────────┼─────────────┼─────────────┤\n",
      "│ Percentage (%) │    0.460834 │    0.539166 │\n",
      "╘════════════════╧═════════════╧═════════════╛\n"
     ]
    }
   ],
   "source": [
    "show_activity_distribution(dataset=dataset_c, label=activity_col_name)"
   ]
  },
  {
   "cell_type": "markdown",
   "metadata": {},
   "source": [
    "## 2. Check conflict labels"
   ]
  },
  {
   "cell_type": "code",
   "execution_count": 10,
   "metadata": {},
   "outputs": [],
   "source": [
    "def check_label_intersection(dataset, col_name):\n",
    "    active_rows = dataset.loc[dataset[col_name] == \"active\"]\n",
    "    inactive_rows = dataset.loc[dataset[col_name] == \"inactive\"]\n",
    "    cid_active = active_rows.loc[:, smiles_col_name]\n",
    "    cid_inactive = inactive_rows.loc[:, smiles_col_name]\n",
    "    #intersect1d check for string intersection while also matching the case \n",
    "    ac_inac_cid = np.intersect1d(cid_active, cid_inactive)\n",
    "    print(f\"Activity intersection: {len(ac_inac_cid)}\")\n",
    "    return ac_inac_cid"
   ]
  },
  {
   "cell_type": "code",
   "execution_count": 11,
   "metadata": {},
   "outputs": [
    {
     "name": "stdout",
     "output_type": "stream",
     "text": [
      "Activity intersection: 0\n"
     ]
    }
   ],
   "source": [
    "duplicate_smiles = check_label_intersection(dataset=dataset, col_name=activity_col_name)"
   ]
  },
  {
   "cell_type": "code",
   "execution_count": 12,
   "metadata": {},
   "outputs": [
    {
     "data": {
      "text/plain": [
       "array([], dtype=object)"
      ]
     },
     "execution_count": 12,
     "metadata": {},
     "output_type": "execute_result"
    }
   ],
   "source": [
    "duplicate_smiles[0:5]"
   ]
  },
  {
   "cell_type": "markdown",
   "metadata": {},
   "source": [
    "## Remove labels intersections"
   ]
  },
  {
   "cell_type": "code",
   "execution_count": 13,
   "metadata": {},
   "outputs": [],
   "source": [
    "duplicate_rows = pd.DataFrame(columns=dataset_c.columns)\n",
    "for smiles in duplicate_smiles:\n",
    "    dup_row = dataset.loc[dataset[smiles_col_name] == smiles]\n",
    "    duplicate_rows = pd.concat([duplicate_rows, dup_row])"
   ]
  },
  {
   "cell_type": "code",
   "execution_count": 14,
   "metadata": {},
   "outputs": [],
   "source": [
    "len(duplicate_rows)\n",
    "duplicate_rows.to_excel(\"../../results/removed_smiles/20240321_pan_hdac_duplicate_smiles.xlsx\", index=False) \n",
    "dup_indeces = duplicate_rows.index\n",
    "dataset_c = dataset_c.drop(dup_indeces)"
   ]
  },
  {
   "cell_type": "code",
   "execution_count": 15,
   "metadata": {},
   "outputs": [
    {
     "data": {
      "text/html": [
       "<div>\n",
       "<style scoped>\n",
       "    .dataframe tbody tr th:only-of-type {\n",
       "        vertical-align: middle;\n",
       "    }\n",
       "\n",
       "    .dataframe tbody tr th {\n",
       "        vertical-align: top;\n",
       "    }\n",
       "\n",
       "    .dataframe thead th {\n",
       "        text-align: right;\n",
       "    }\n",
       "</style>\n",
       "<table border=\"1\" class=\"dataframe\">\n",
       "  <thead>\n",
       "    <tr style=\"text-align: right;\">\n",
       "      <th></th>\n",
       "      <th>Code</th>\n",
       "      <th>Average IC50</th>\n",
       "      <th>Bioactivity</th>\n",
       "      <th>SMILES</th>\n",
       "      <th>INCHI-KEY</th>\n",
       "    </tr>\n",
       "  </thead>\n",
       "  <tbody>\n",
       "    <tr>\n",
       "      <th>0</th>\n",
       "      <td>11305</td>\n",
       "      <td>236.6</td>\n",
       "      <td>active</td>\n",
       "      <td>ONC(CCCCCCC(Nc1ccccc1)=O)=O</td>\n",
       "      <td>NaN</td>\n",
       "    </tr>\n",
       "    <tr>\n",
       "      <th>1</th>\n",
       "      <td>236556</td>\n",
       "      <td>1556.0</td>\n",
       "      <td>inactive</td>\n",
       "      <td>[O-][N+](c(cc1)ccc1C(NCCCCCC(NO)=O)=O)=O</td>\n",
       "      <td>GDAAHZPABCCCFD-UHFFFAOYSA-N</td>\n",
       "    </tr>\n",
       "    <tr>\n",
       "      <th>2</th>\n",
       "      <td>1352187</td>\n",
       "      <td>12.6</td>\n",
       "      <td>active</td>\n",
       "      <td>[O-][N+](c(cc1)ccc1S([n](cc1)c2c1cc(/C=C/C(NO)...</td>\n",
       "      <td>KAFPWADPNJMVFZ-KRXBUXKQSA-N</td>\n",
       "    </tr>\n",
       "    <tr>\n",
       "      <th>3</th>\n",
       "      <td>418270</td>\n",
       "      <td>1600.0</td>\n",
       "      <td>inactive</td>\n",
       "      <td>[O-][N+](c(cc1)ccc1S(N(CC1)CCN1c1ncc(/C=C/C(NO...</td>\n",
       "      <td>DVMYLPRGYNBANT-ZZXKWVIFSA-N</td>\n",
       "    </tr>\n",
       "    <tr>\n",
       "      <th>4</th>\n",
       "      <td>418245</td>\n",
       "      <td>400.0</td>\n",
       "      <td>inactive</td>\n",
       "      <td>[O-][N+](c(cc1)ccc1S(N(CC1)CCN1c1ncc(C(NO)=O)[...</td>\n",
       "      <td>SINFIJWJVFHMHP-UHFFFAOYSA-N</td>\n",
       "    </tr>\n",
       "  </tbody>\n",
       "</table>\n",
       "</div>"
      ],
      "text/plain": [
       "      Code  Average IC50 Bioactivity  \\\n",
       "0    11305         236.6      active   \n",
       "1   236556        1556.0    inactive   \n",
       "2  1352187          12.6      active   \n",
       "3   418270        1600.0    inactive   \n",
       "4   418245         400.0    inactive   \n",
       "\n",
       "                                              SMILES  \\\n",
       "0                        ONC(CCCCCCC(Nc1ccccc1)=O)=O   \n",
       "1           [O-][N+](c(cc1)ccc1C(NCCCCCC(NO)=O)=O)=O   \n",
       "2  [O-][N+](c(cc1)ccc1S([n](cc1)c2c1cc(/C=C/C(NO)...   \n",
       "3  [O-][N+](c(cc1)ccc1S(N(CC1)CCN1c1ncc(/C=C/C(NO...   \n",
       "4  [O-][N+](c(cc1)ccc1S(N(CC1)CCN1c1ncc(C(NO)=O)[...   \n",
       "\n",
       "                     INCHI-KEY  \n",
       "0                          NaN  \n",
       "1  GDAAHZPABCCCFD-UHFFFAOYSA-N  \n",
       "2  KAFPWADPNJMVFZ-KRXBUXKQSA-N  \n",
       "3  DVMYLPRGYNBANT-ZZXKWVIFSA-N  \n",
       "4  SINFIJWJVFHMHP-UHFFFAOYSA-N  "
      ]
     },
     "execution_count": 15,
     "metadata": {},
     "output_type": "execute_result"
    }
   ],
   "source": [
    "dataset_c.head()"
   ]
  },
  {
   "cell_type": "code",
   "execution_count": 16,
   "metadata": {},
   "outputs": [
    {
     "name": "stdout",
     "output_type": "stream",
     "text": [
      "Activity intersection: 0\n"
     ]
    },
    {
     "data": {
      "text/plain": [
       "array([], dtype=object)"
      ]
     },
     "execution_count": 16,
     "metadata": {},
     "output_type": "execute_result"
    }
   ],
   "source": [
    "check_label_intersection(dataset=dataset_c, col_name=activity_col_name)"
   ]
  },
  {
   "cell_type": "code",
   "execution_count": 17,
   "metadata": {},
   "outputs": [
    {
     "name": "stdout",
     "output_type": "stream",
     "text": [
      "Total dataset\n",
      "╒════════════════╤═════════════╤═════════════╕\n",
      "│                │      Active │    Inactive │\n",
      "╞════════════════╪═════════════╪═════════════╡\n",
      "│ Number         │ 1006        │ 1177        │\n",
      "├────────────────┼─────────────┼─────────────┤\n",
      "│ Percentage (%) │    0.460834 │    0.539166 │\n",
      "╘════════════════╧═════════════╧═════════════╛\n"
     ]
    }
   ],
   "source": [
    "show_activity_distribution(dataset=dataset_c, label=activity_col_name)"
   ]
  },
  {
   "cell_type": "markdown",
   "metadata": {},
   "source": [
    "## Check if the smiles are encodeable"
   ]
  },
  {
   "cell_type": "code",
   "execution_count": 18,
   "metadata": {},
   "outputs": [],
   "source": [
    "from tqdm import tqdm\n",
    "\n",
    "def maccs_fpts(data):\n",
    "    Maccs_fpts = []\n",
    "    error_index = []\n",
    "    count = 0\n",
    "    with tqdm(total=len(data), desc='Progress') as pbar:\n",
    "        for i in data:\n",
    "            try:\n",
    "                mol = Chem.MolFromSmiles(i)\n",
    "                fpts = MACCSkeys.GenMACCSKeys(mol)\n",
    "            except:\n",
    "                print(\"An exception occurred with \" + str(count))\n",
    "                error_index.append(count)\n",
    "                count += 1\n",
    "                continue\n",
    "            mfpts = np.array(fpts)\n",
    "            Maccs_fpts.append(mfpts)\n",
    "            count += 1\n",
    "            pbar.update(1)  # Update the progress bar\n",
    "    return np.array(Maccs_fpts), error_index"
   ]
  },
  {
   "cell_type": "code",
   "execution_count": 19,
   "metadata": {},
   "outputs": [
    {
     "name": "stderr",
     "output_type": "stream",
     "text": [
      "Progress:   0%|          | 0/2183 [00:00<?, ?it/s]"
     ]
    },
    {
     "name": "stderr",
     "output_type": "stream",
     "text": [
      "[15:19:47] Conflicting single bond directions around double bond at index 15.\n",
      "[15:19:47]   BondStereo set to STEREONONE and single bond directions set to NONE.\n",
      "[15:19:47] Conflicting single bond directions around double bond at index 27.\n",
      "[15:19:47]   BondStereo set to STEREONONE and single bond directions set to NONE.\n",
      "[15:19:47] Conflicting single bond directions around double bond at index 26.\n",
      "[15:19:47]   BondStereo set to STEREONONE and single bond directions set to NONE.\n",
      "[15:19:47] Conflicting single bond directions around double bond at index 7.\n",
      "[15:19:47]   BondStereo set to STEREONONE and single bond directions set to NONE.\n",
      "[15:19:47] Conflicting single bond directions around double bond at index 7.\n",
      "[15:19:47]   BondStereo set to STEREONONE and single bond directions set to NONE.\n",
      "[15:19:47] Conflicting single bond directions around double bond at index 8.\n",
      "[15:19:47]   BondStereo set to STEREONONE and single bond directions set to NONE.\n",
      "[15:19:47] Conflicting single bond directions around double bond at index 13.\n",
      "[15:19:47]   BondStereo set to STEREONONE and single bond directions set to NONE.\n",
      "[15:19:47] Conflicting single bond directions around double bond at index 7.\n",
      "[15:19:47]   BondStereo set to STEREONONE and single bond directions set to NONE.\n",
      "[15:19:47] Conflicting single bond directions around double bond at index 7.\n",
      "[15:19:47]   BondStereo set to STEREONONE and single bond directions set to NONE.\n",
      "[15:19:47] Conflicting single bond directions around double bond at index 7.\n",
      "[15:19:47]   BondStereo set to STEREONONE and single bond directions set to NONE.\n",
      "[15:19:47] Conflicting single bond directions around double bond at index 7.\n",
      "[15:19:47]   BondStereo set to STEREONONE and single bond directions set to NONE.\n",
      "[15:19:47] Conflicting single bond directions around double bond at index 7.\n",
      "[15:19:47]   BondStereo set to STEREONONE and single bond directions set to NONE.\n",
      "[15:19:47] Conflicting single bond directions around double bond at index 9.\n",
      "[15:19:47]   BondStereo set to STEREONONE and single bond directions set to NONE.\n",
      "Progress:   4%|▍         | 95/2183 [00:00<00:02, 945.87it/s][15:19:47] Conflicting single bond directions around double bond at index 25.\n",
      "[15:19:47]   BondStereo set to STEREONONE and single bond directions set to NONE.\n",
      "[15:19:47] Conflicting single bond directions around double bond at index 25.\n",
      "[15:19:47]   BondStereo set to STEREONONE and single bond directions set to NONE.\n",
      "[15:19:47] Conflicting single bond directions around double bond at index 7.\n",
      "[15:19:47]   BondStereo set to STEREONONE and single bond directions set to NONE.\n",
      "[15:19:47] Conflicting single bond directions around double bond at index 7.\n",
      "[15:19:47]   BondStereo set to STEREONONE and single bond directions set to NONE.\n",
      "[15:19:47] Conflicting single bond directions around double bond at index 7.\n",
      "[15:19:47]   BondStereo set to STEREONONE and single bond directions set to NONE.\n",
      "[15:19:47] Conflicting single bond directions around double bond at index 12.\n",
      "[15:19:47]   BondStereo set to STEREONONE and single bond directions set to NONE.\n",
      "[15:19:47] Conflicting single bond directions around double bond at index 7.\n",
      "[15:19:47]   BondStereo set to STEREONONE and single bond directions set to NONE.\n",
      "[15:19:47] Conflicting single bond directions around double bond at index 12.\n",
      "[15:19:47]   BondStereo set to STEREONONE and single bond directions set to NONE.\n",
      "[15:19:47] Conflicting single bond directions around double bond at index 7.\n",
      "[15:19:47]   BondStereo set to STEREONONE and single bond directions set to NONE.\n",
      "[15:19:47] Conflicting single bond directions around double bond at index 7.\n",
      "[15:19:47]   BondStereo set to STEREONONE and single bond directions set to NONE.\n",
      "Progress:  10%|▉         | 208/2183 [00:00<00:01, 1049.80it/s][15:19:47] Conflicting single bond directions around double bond at index 29.\n",
      "[15:19:47]   BondStereo set to STEREONONE and single bond directions set to NONE.\n",
      "[15:19:47] Conflicting single bond directions around double bond at index 33.\n",
      "[15:19:47]   BondStereo set to STEREONONE and single bond directions set to NONE.\n",
      "[15:19:47] Conflicting single bond directions around double bond at index 6.\n",
      "[15:19:47]   BondStereo set to STEREONONE and single bond directions set to NONE.\n",
      "[15:19:47] Conflicting single bond directions around double bond at index 15.\n",
      "[15:19:47]   BondStereo set to STEREONONE and single bond directions set to NONE.\n",
      "[15:19:47] Conflicting single bond directions around double bond at index 6.\n",
      "[15:19:47]   BondStereo set to STEREONONE and single bond directions set to NONE.\n",
      "[15:19:47] Conflicting single bond directions around double bond at index 15.\n",
      "[15:19:47]   BondStereo set to STEREONONE and single bond directions set to NONE.\n",
      "[15:19:47] Conflicting single bond directions around double bond at index 6.\n",
      "[15:19:47]   BondStereo set to STEREONONE and single bond directions set to NONE.\n",
      "[15:19:47] Conflicting single bond directions around double bond at index 15.\n",
      "[15:19:47]   BondStereo set to STEREONONE and single bond directions set to NONE.\n",
      "Progress:  15%|█▍        | 326/2183 [00:00<00:01, 1105.35it/s][15:19:47] Conflicting single bond directions around double bond at index 14.\n",
      "[15:19:47]   BondStereo set to STEREONONE and single bond directions set to NONE.\n",
      "Progress:  25%|██▍       | 540/2183 [00:00<00:01, 984.84it/s] [15:19:47] Conflicting single bond directions around double bond at index 25.\n",
      "[15:19:47]   BondStereo set to STEREONONE and single bond directions set to NONE.\n",
      "[15:19:47] Conflicting single bond directions around double bond at index 29.\n",
      "[15:19:47]   BondStereo set to STEREONONE and single bond directions set to NONE.\n",
      "[15:19:47] Conflicting single bond directions around double bond at index 25.\n",
      "[15:19:47]   BondStereo set to STEREONONE and single bond directions set to NONE.\n",
      "[15:19:47] Conflicting single bond directions around double bond at index 30.\n",
      "[15:19:47]   BondStereo set to STEREONONE and single bond directions set to NONE.\n",
      "Progress:  29%|██▉       | 641/2183 [00:00<00:01, 992.23it/s][15:19:47] Conflicting single bond directions around double bond at index 92.\n",
      "[15:19:47]   BondStereo set to STEREONONE and single bond directions set to NONE.\n",
      "[15:19:48] Conflicting single bond directions around double bond at index 22.\n",
      "[15:19:48]   BondStereo set to STEREONONE and single bond directions set to NONE.\n",
      "Progress:  41%|████      | 893/2183 [00:00<00:01, 1125.46it/s][15:19:48] Conflicting single bond directions around double bond at index 32.\n",
      "[15:19:48]   BondStereo set to STEREONONE and single bond directions set to NONE.\n",
      "[15:19:48] Conflicting single bond directions around double bond at index 30.\n",
      "[15:19:48]   BondStereo set to STEREONONE and single bond directions set to NONE.\n",
      "[15:19:48] Conflicting single bond directions around double bond at index 27.\n",
      "[15:19:48]   BondStereo set to STEREONONE and single bond directions set to NONE.\n",
      "[15:19:48] Conflicting single bond directions around double bond at index 31.\n",
      "[15:19:48]   BondStereo set to STEREONONE and single bond directions set to NONE.\n",
      "Progress:  46%|████▌     | 1008/2183 [00:00<00:01, 1131.57it/s][15:19:48] Conflicting single bond directions around double bond at index 7.\n",
      "[15:19:48]   BondStereo set to STEREONONE and single bond directions set to NONE.\n",
      "[15:19:48] Conflicting single bond directions around double bond at index 16.\n",
      "[15:19:48]   BondStereo set to STEREONONE and single bond directions set to NONE.\n",
      "[15:19:48] Conflicting single bond directions around double bond at index 7.\n",
      "[15:19:48]   BondStereo set to STEREONONE and single bond directions set to NONE.\n",
      "[15:19:48] Conflicting single bond directions around double bond at index 16.\n",
      "[15:19:48]   BondStereo set to STEREONONE and single bond directions set to NONE.\n",
      "[15:19:48] Conflicting single bond directions around double bond at index 7.\n",
      "[15:19:48]   BondStereo set to STEREONONE and single bond directions set to NONE.\n",
      "[15:19:48] Conflicting single bond directions around double bond at index 16.\n",
      "[15:19:48]   BondStereo set to STEREONONE and single bond directions set to NONE.\n",
      "Progress:  52%|█████▏    | 1125/2183 [00:01<00:00, 1140.30it/s][15:19:48] Conflicting single bond directions around double bond at index 28.\n",
      "[15:19:48]   BondStereo set to STEREONONE and single bond directions set to NONE.\n",
      "[15:19:48] Conflicting single bond directions around double bond at index 32.\n",
      "[15:19:48]   BondStereo set to STEREONONE and single bond directions set to NONE.\n",
      "[15:19:48] Conflicting single bond directions around double bond at index 21.\n",
      "[15:19:48]   BondStereo set to STEREONONE and single bond directions set to NONE.\n",
      "[15:19:48] Conflicting single bond directions around double bond at index 27.\n",
      "[15:19:48]   BondStereo set to STEREONONE and single bond directions set to NONE.\n",
      "[15:19:48] Conflicting single bond directions around double bond at index 31.\n",
      "[15:19:48]   BondStereo set to STEREONONE and single bond directions set to NONE.\n",
      "[15:19:48] Conflicting single bond directions around double bond at index 27.\n",
      "[15:19:48]   BondStereo set to STEREONONE and single bond directions set to NONE.\n",
      "[15:19:48] Conflicting single bond directions around double bond at index 32.\n",
      "[15:19:48]   BondStereo set to STEREONONE and single bond directions set to NONE.\n",
      "[15:19:48] Conflicting single bond directions around double bond at index 8.\n",
      "[15:19:48]   BondStereo set to STEREONONE and single bond directions set to NONE.\n",
      "[15:19:48] Conflicting single bond directions around double bond at index 21.\n",
      "[15:19:48]   BondStereo set to STEREONONE and single bond directions set to NONE.\n",
      "Progress:  57%|█████▋    | 1240/2183 [00:01<00:00, 1128.70it/s][15:19:48] Conflicting single bond directions around double bond at index 33.\n",
      "[15:19:48]   BondStereo set to STEREONONE and single bond directions set to NONE.\n",
      "[15:19:48] Conflicting single bond directions around double bond at index 31.\n",
      "[15:19:48]   BondStereo set to STEREONONE and single bond directions set to NONE.\n",
      "[15:19:48] Conflicting single bond directions around double bond at index 35.\n",
      "[15:19:48]   BondStereo set to STEREONONE and single bond directions set to NONE.\n",
      "[15:19:48] Conflicting single bond directions around double bond at index 29.\n",
      "[15:19:48]   BondStereo set to STEREONONE and single bond directions set to NONE.\n",
      "Progress:  63%|██████▎   | 1371/2183 [00:01<00:00, 1182.19it/s][15:19:48] Conflicting single bond directions around double bond at index 21.\n",
      "[15:19:48]   BondStereo set to STEREONONE and single bond directions set to NONE.\n",
      "[15:19:48] Conflicting single bond directions around double bond at index 5.\n",
      "[15:19:48]   BondStereo set to STEREONONE and single bond directions set to NONE.\n",
      "[15:19:48] Conflicting single bond directions around double bond at index 26.\n",
      "[15:19:48]   BondStereo set to STEREONONE and single bond directions set to NONE.\n",
      "[15:19:48] Conflicting single bond directions around double bond at index 30.\n",
      "[15:19:48]   BondStereo set to STEREONONE and single bond directions set to NONE.\n",
      "[15:19:48] Conflicting single bond directions around double bond at index 25.\n",
      "[15:19:48]   BondStereo set to STEREONONE and single bond directions set to NONE.\n",
      "[15:19:48] Conflicting single bond directions around double bond at index 29.\n",
      "[15:19:48]   BondStereo set to STEREONONE and single bond directions set to NONE.\n",
      "Progress:  74%|███████▍  | 1623/2183 [00:01<00:00, 1158.03it/s][15:19:48] Conflicting single bond directions around double bond at index 13.\n",
      "[15:19:48]   BondStereo set to STEREONONE and single bond directions set to NONE.\n",
      "[15:19:48] Conflicting single bond directions around double bond at index 22.\n",
      "[15:19:48]   BondStereo set to STEREONONE and single bond directions set to NONE.\n",
      "[15:19:48] Conflicting single bond directions around double bond at index 18.\n",
      "[15:19:48]   BondStereo set to STEREONONE and single bond directions set to NONE.\n",
      "[15:19:48] Conflicting single bond directions around double bond at index 27.\n",
      "[15:19:48]   BondStereo set to STEREONONE and single bond directions set to NONE.\n",
      "[15:19:48] Conflicting single bond directions around double bond at index 18.\n",
      "[15:19:48]   BondStereo set to STEREONONE and single bond directions set to NONE.\n",
      "[15:19:48] Conflicting single bond directions around double bond at index 27.\n",
      "[15:19:48]   BondStereo set to STEREONONE and single bond directions set to NONE.\n",
      "[15:19:48] Conflicting single bond directions around double bond at index 18.\n",
      "[15:19:48]   BondStereo set to STEREONONE and single bond directions set to NONE.\n",
      "[15:19:48] Conflicting single bond directions around double bond at index 27.\n",
      "[15:19:48]   BondStereo set to STEREONONE and single bond directions set to NONE.\n",
      "[15:19:48] Conflicting single bond directions around double bond at index 17.\n",
      "[15:19:48]   BondStereo set to STEREONONE and single bond directions set to NONE.\n",
      "[15:19:48] Conflicting single bond directions around double bond at index 26.\n",
      "[15:19:48]   BondStereo set to STEREONONE and single bond directions set to NONE.\n",
      "[15:19:48] Conflicting single bond directions around double bond at index 24.\n",
      "[15:19:48]   BondStereo set to STEREONONE and single bond directions set to NONE.\n",
      "[15:19:48] Conflicting single bond directions around double bond at index 23.\n",
      "[15:19:48]   BondStereo set to STEREONONE and single bond directions set to NONE.\n",
      "Progress:  80%|███████▉  | 1743/2183 [00:01<00:00, 1167.93it/s][15:19:48] Conflicting single bond directions around double bond at index 15.\n",
      "[15:19:48]   BondStereo set to STEREONONE and single bond directions set to NONE.\n",
      "[15:19:48] Conflicting single bond directions around double bond at index 11.\n",
      "[15:19:48]   BondStereo set to STEREONONE and single bond directions set to NONE.\n",
      "[15:19:48] Conflicting single bond directions around double bond at index 20.\n",
      "[15:19:48]   BondStereo set to STEREONONE and single bond directions set to NONE.\n",
      "[15:19:48] Conflicting single bond directions around double bond at index 16.\n",
      "[15:19:48]   BondStereo set to STEREONONE and single bond directions set to NONE.\n",
      "[15:19:48] Conflicting single bond directions around double bond at index 25.\n",
      "[15:19:48]   BondStereo set to STEREONONE and single bond directions set to NONE.\n",
      "[15:19:48] Conflicting single bond directions around double bond at index 16.\n",
      "[15:19:48]   BondStereo set to STEREONONE and single bond directions set to NONE.\n",
      "[15:19:48] Conflicting single bond directions around double bond at index 25.\n",
      "[15:19:48]   BondStereo set to STEREONONE and single bond directions set to NONE.\n",
      "[15:19:48] Conflicting single bond directions around double bond at index 16.\n",
      "[15:19:48]   BondStereo set to STEREONONE and single bond directions set to NONE.\n",
      "[15:19:48] Conflicting single bond directions around double bond at index 25.\n",
      "[15:19:48]   BondStereo set to STEREONONE and single bond directions set to NONE.\n",
      "[15:19:48] Conflicting single bond directions around double bond at index 15.\n",
      "[15:19:48]   BondStereo set to STEREONONE and single bond directions set to NONE.\n",
      "[15:19:48] Conflicting single bond directions around double bond at index 24.\n",
      "[15:19:48]   BondStereo set to STEREONONE and single bond directions set to NONE.\n",
      "[15:19:48] Conflicting single bond directions around double bond at index 22.\n",
      "[15:19:48]   BondStereo set to STEREONONE and single bond directions set to NONE.\n",
      "[15:19:48] Conflicting single bond directions around double bond at index 21.\n",
      "[15:19:48]   BondStereo set to STEREONONE and single bond directions set to NONE.\n",
      "Progress:  85%|████████▌ | 1861/2183 [00:01<00:00, 1162.01it/s][15:19:49] Conflicting single bond directions around double bond at index 14.\n",
      "[15:19:49]   BondStereo set to STEREONONE and single bond directions set to NONE.\n",
      "[15:19:49] Conflicting single bond directions around double bond at index 16.\n",
      "[15:19:49]   BondStereo set to STEREONONE and single bond directions set to NONE.\n",
      "Progress:  91%|█████████ | 1988/2183 [00:01<00:00, 1191.95it/s][15:19:49] Conflicting single bond directions around double bond at index 23.\n",
      "[15:19:49]   BondStereo set to STEREONONE and single bond directions set to NONE.\n",
      "[15:19:49] Conflicting single bond directions around double bond at index 12.\n",
      "[15:19:49]   BondStereo set to STEREONONE and single bond directions set to NONE.\n",
      "[15:19:49] Conflicting single bond directions around double bond at index 21.\n",
      "[15:19:49]   BondStereo set to STEREONONE and single bond directions set to NONE.\n",
      "[15:19:49] Conflicting single bond directions around double bond at index 17.\n",
      "[15:19:49]   BondStereo set to STEREONONE and single bond directions set to NONE.\n",
      "[15:19:49] Conflicting single bond directions around double bond at index 26.\n",
      "[15:19:49]   BondStereo set to STEREONONE and single bond directions set to NONE.\n",
      "[15:19:49] Conflicting single bond directions around double bond at index 17.\n",
      "[15:19:49]   BondStereo set to STEREONONE and single bond directions set to NONE.\n",
      "[15:19:49] Conflicting single bond directions around double bond at index 26.\n",
      "[15:19:49]   BondStereo set to STEREONONE and single bond directions set to NONE.\n",
      "[15:19:49] Conflicting single bond directions around double bond at index 17.\n",
      "[15:19:49]   BondStereo set to STEREONONE and single bond directions set to NONE.\n",
      "[15:19:49] Conflicting single bond directions around double bond at index 26.\n",
      "[15:19:49]   BondStereo set to STEREONONE and single bond directions set to NONE.\n",
      "[15:19:49] Conflicting single bond directions around double bond at index 16.\n",
      "[15:19:49]   BondStereo set to STEREONONE and single bond directions set to NONE.\n",
      "[15:19:49] Conflicting single bond directions around double bond at index 25.\n",
      "[15:19:49]   BondStereo set to STEREONONE and single bond directions set to NONE.\n",
      "[15:19:49] Conflicting single bond directions around double bond at index 23.\n",
      "[15:19:49]   BondStereo set to STEREONONE and single bond directions set to NONE.\n",
      "[15:19:49] Conflicting single bond directions around double bond at index 22.\n",
      "[15:19:49]   BondStereo set to STEREONONE and single bond directions set to NONE.\n",
      "[15:19:49] Conflicting single bond directions around double bond at index 22.\n",
      "[15:19:49]   BondStereo set to STEREONONE and single bond directions set to NONE.\n",
      "[15:19:49] Conflicting single bond directions around double bond at index 21.\n",
      "[15:19:49]   BondStereo set to STEREONONE and single bond directions set to NONE.\n",
      "Progress:  97%|█████████▋| 2108/2183 [00:01<00:00, 1183.73it/s][15:19:49] Conflicting single bond directions around double bond at index 21.\n",
      "[15:19:49]   BondStereo set to STEREONONE and single bond directions set to NONE.\n",
      "[15:19:49] Conflicting single bond directions around double bond at index 20.\n",
      "[15:19:49]   BondStereo set to STEREONONE and single bond directions set to NONE.\n",
      "[15:19:49] Conflicting single bond directions around double bond at index 19.\n",
      "[15:19:49]   BondStereo set to STEREONONE and single bond directions set to NONE.\n",
      "Progress: 100%|██████████| 2183/2183 [00:01<00:00, 1133.68it/s]\n"
     ]
    }
   ],
   "source": [
    "smiles_data, error_idx = maccs_fpts(dataset_c[smiles_col_name]) #All of them are encodable by rdkit, so none of them are removed"
   ]
  },
  {
   "cell_type": "markdown",
   "metadata": {},
   "source": [
    "# Write to file"
   ]
  },
  {
   "cell_type": "code",
   "execution_count": 20,
   "metadata": {},
   "outputs": [
    {
     "data": {
      "text/html": [
       "<div>\n",
       "<style scoped>\n",
       "    .dataframe tbody tr th:only-of-type {\n",
       "        vertical-align: middle;\n",
       "    }\n",
       "\n",
       "    .dataframe tbody tr th {\n",
       "        vertical-align: top;\n",
       "    }\n",
       "\n",
       "    .dataframe thead th {\n",
       "        text-align: right;\n",
       "    }\n",
       "</style>\n",
       "<table border=\"1\" class=\"dataframe\">\n",
       "  <thead>\n",
       "    <tr style=\"text-align: right;\">\n",
       "      <th></th>\n",
       "      <th>Code</th>\n",
       "      <th>Average IC50</th>\n",
       "      <th>Bioactivity</th>\n",
       "      <th>SMILES</th>\n",
       "      <th>INCHI-KEY</th>\n",
       "    </tr>\n",
       "  </thead>\n",
       "  <tbody>\n",
       "    <tr>\n",
       "      <th>0</th>\n",
       "      <td>11305</td>\n",
       "      <td>236.6</td>\n",
       "      <td>active</td>\n",
       "      <td>ONC(CCCCCCC(Nc1ccccc1)=O)=O</td>\n",
       "      <td>NaN</td>\n",
       "    </tr>\n",
       "    <tr>\n",
       "      <th>1</th>\n",
       "      <td>236556</td>\n",
       "      <td>1556.0</td>\n",
       "      <td>inactive</td>\n",
       "      <td>[O-][N+](c(cc1)ccc1C(NCCCCCC(NO)=O)=O)=O</td>\n",
       "      <td>GDAAHZPABCCCFD-UHFFFAOYSA-N</td>\n",
       "    </tr>\n",
       "    <tr>\n",
       "      <th>2</th>\n",
       "      <td>1352187</td>\n",
       "      <td>12.6</td>\n",
       "      <td>active</td>\n",
       "      <td>[O-][N+](c(cc1)ccc1S([n](cc1)c2c1cc(/C=C/C(NO)...</td>\n",
       "      <td>KAFPWADPNJMVFZ-KRXBUXKQSA-N</td>\n",
       "    </tr>\n",
       "    <tr>\n",
       "      <th>3</th>\n",
       "      <td>418270</td>\n",
       "      <td>1600.0</td>\n",
       "      <td>inactive</td>\n",
       "      <td>[O-][N+](c(cc1)ccc1S(N(CC1)CCN1c1ncc(/C=C/C(NO...</td>\n",
       "      <td>DVMYLPRGYNBANT-ZZXKWVIFSA-N</td>\n",
       "    </tr>\n",
       "    <tr>\n",
       "      <th>4</th>\n",
       "      <td>418245</td>\n",
       "      <td>400.0</td>\n",
       "      <td>inactive</td>\n",
       "      <td>[O-][N+](c(cc1)ccc1S(N(CC1)CCN1c1ncc(C(NO)=O)[...</td>\n",
       "      <td>SINFIJWJVFHMHP-UHFFFAOYSA-N</td>\n",
       "    </tr>\n",
       "  </tbody>\n",
       "</table>\n",
       "</div>"
      ],
      "text/plain": [
       "      Code  Average IC50 Bioactivity  \\\n",
       "0    11305         236.6      active   \n",
       "1   236556        1556.0    inactive   \n",
       "2  1352187          12.6      active   \n",
       "3   418270        1600.0    inactive   \n",
       "4   418245         400.0    inactive   \n",
       "\n",
       "                                              SMILES  \\\n",
       "0                        ONC(CCCCCCC(Nc1ccccc1)=O)=O   \n",
       "1           [O-][N+](c(cc1)ccc1C(NCCCCCC(NO)=O)=O)=O   \n",
       "2  [O-][N+](c(cc1)ccc1S([n](cc1)c2c1cc(/C=C/C(NO)...   \n",
       "3  [O-][N+](c(cc1)ccc1S(N(CC1)CCN1c1ncc(/C=C/C(NO...   \n",
       "4  [O-][N+](c(cc1)ccc1S(N(CC1)CCN1c1ncc(C(NO)=O)[...   \n",
       "\n",
       "                     INCHI-KEY  \n",
       "0                          NaN  \n",
       "1  GDAAHZPABCCCFD-UHFFFAOYSA-N  \n",
       "2  KAFPWADPNJMVFZ-KRXBUXKQSA-N  \n",
       "3  DVMYLPRGYNBANT-ZZXKWVIFSA-N  \n",
       "4  SINFIJWJVFHMHP-UHFFFAOYSA-N  "
      ]
     },
     "execution_count": 20,
     "metadata": {},
     "output_type": "execute_result"
    }
   ],
   "source": [
    "dataset_c.head()"
   ]
  },
  {
   "cell_type": "code",
   "execution_count": 21,
   "metadata": {},
   "outputs": [],
   "source": [
    "dataset_c = dataset_c[[\"Code\", \"SMILES\", \"Bioactivity\"]]"
   ]
  },
  {
   "cell_type": "code",
   "execution_count": 19,
   "metadata": {},
   "outputs": [],
   "source": [
    "dataset_c.to_excel(\"../../data/preprocessed/20240321_pan-hdac-preprocessed.xlsx\", index=False)"
   ]
  }
 ],
 "metadata": {
  "kernelspec": {
   "display_name": "my-rdkit-env",
   "language": "python",
   "name": "python3"
  },
  "language_info": {
   "codemirror_mode": {
    "name": "ipython",
    "version": 3
   },
   "file_extension": ".py",
   "mimetype": "text/x-python",
   "name": "python",
   "nbconvert_exporter": "python",
   "pygments_lexer": "ipython3",
   "version": "3.12.0"
  }
 },
 "nbformat": 4,
 "nbformat_minor": 2
}
