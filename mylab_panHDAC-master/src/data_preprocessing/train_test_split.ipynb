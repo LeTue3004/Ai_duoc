{
 "cells": [
  {
   "cell_type": "code",
   "execution_count": 1,
   "metadata": {},
   "outputs": [],
   "source": [
    "from rdkit.Chem import AllChem\n",
    "from rdkit import Chem\n",
    "from rdkit.Chem import Descriptors, MACCSkeys\n",
    "from rdkit.ML.Descriptors import MoleculeDescriptors\n",
    "\n",
    "import pandas as pd\n",
    "import numpy as np\n",
    "import matplotlib.pyplot as plt\n",
    "from tabulate import tabulate\n",
    "\n",
    "from sklearn.preprocessing import LabelEncoder "
   ]
  },
  {
   "cell_type": "markdown",
   "metadata": {},
   "source": [
    "# Import preprocessed data"
   ]
  },
  {
   "cell_type": "code",
   "execution_count": 2,
   "metadata": {},
   "outputs": [
    {
     "data": {
      "text/plain": [
       "2183"
      ]
     },
     "execution_count": 2,
     "metadata": {},
     "output_type": "execute_result"
    }
   ],
   "source": [
    "preprocessed_data_path = \"../../data/preprocessed/20240321_pan-hdac-preprocessed.xlsx\"\n",
    "dataset = pd.read_excel(preprocessed_data_path, sheet_name='Sheet1')\n",
    "len(dataset)"
   ]
  },
  {
   "cell_type": "code",
   "execution_count": 3,
   "metadata": {},
   "outputs": [
    {
     "data": {
      "text/html": [
       "<div>\n",
       "<style scoped>\n",
       "    .dataframe tbody tr th:only-of-type {\n",
       "        vertical-align: middle;\n",
       "    }\n",
       "\n",
       "    .dataframe tbody tr th {\n",
       "        vertical-align: top;\n",
       "    }\n",
       "\n",
       "    .dataframe thead th {\n",
       "        text-align: right;\n",
       "    }\n",
       "</style>\n",
       "<table border=\"1\" class=\"dataframe\">\n",
       "  <thead>\n",
       "    <tr style=\"text-align: right;\">\n",
       "      <th></th>\n",
       "      <th>Code</th>\n",
       "      <th>SMILES</th>\n",
       "      <th>Bioactivity</th>\n",
       "    </tr>\n",
       "  </thead>\n",
       "  <tbody>\n",
       "    <tr>\n",
       "      <th>0</th>\n",
       "      <td>11305</td>\n",
       "      <td>ONC(CCCCCCC(Nc1ccccc1)=O)=O</td>\n",
       "      <td>active</td>\n",
       "    </tr>\n",
       "    <tr>\n",
       "      <th>1</th>\n",
       "      <td>236556</td>\n",
       "      <td>[O-][N+](c(cc1)ccc1C(NCCCCCC(NO)=O)=O)=O</td>\n",
       "      <td>inactive</td>\n",
       "    </tr>\n",
       "    <tr>\n",
       "      <th>2</th>\n",
       "      <td>1352187</td>\n",
       "      <td>[O-][N+](c(cc1)ccc1S([n](cc1)c2c1cc(/C=C/C(NO)...</td>\n",
       "      <td>active</td>\n",
       "    </tr>\n",
       "    <tr>\n",
       "      <th>3</th>\n",
       "      <td>418270</td>\n",
       "      <td>[O-][N+](c(cc1)ccc1S(N(CC1)CCN1c1ncc(/C=C/C(NO...</td>\n",
       "      <td>inactive</td>\n",
       "    </tr>\n",
       "    <tr>\n",
       "      <th>4</th>\n",
       "      <td>418245</td>\n",
       "      <td>[O-][N+](c(cc1)ccc1S(N(CC1)CCN1c1ncc(C(NO)=O)[...</td>\n",
       "      <td>inactive</td>\n",
       "    </tr>\n",
       "  </tbody>\n",
       "</table>\n",
       "</div>"
      ],
      "text/plain": [
       "      Code                                             SMILES Bioactivity\n",
       "0    11305                        ONC(CCCCCCC(Nc1ccccc1)=O)=O      active\n",
       "1   236556           [O-][N+](c(cc1)ccc1C(NCCCCCC(NO)=O)=O)=O    inactive\n",
       "2  1352187  [O-][N+](c(cc1)ccc1S([n](cc1)c2c1cc(/C=C/C(NO)...      active\n",
       "3   418270  [O-][N+](c(cc1)ccc1S(N(CC1)CCN1c1ncc(/C=C/C(NO...    inactive\n",
       "4   418245  [O-][N+](c(cc1)ccc1S(N(CC1)CCN1c1ncc(C(NO)=O)[...    inactive"
      ]
     },
     "execution_count": 3,
     "metadata": {},
     "output_type": "execute_result"
    }
   ],
   "source": [
    "dataset.head()"
   ]
  },
  {
   "cell_type": "code",
   "execution_count": 4,
   "metadata": {},
   "outputs": [],
   "source": [
    "def check_activity_distribution(dataset, col_name):\n",
    "    active_rows = dataset.loc[dataset[col_name] == \"active\"]\n",
    "    inactive_rows = dataset.loc[dataset[col_name] == \"inactive\"]\n",
    "\n",
    "    dataset_length = len(dataset)\n",
    "\n",
    "    print(f\"Total dataset: {dataset_length}\")\n",
    "    table = [['', 'Active', 'Inactive'], \n",
    "            ['Number', len(active_rows), len(inactive_rows)],\n",
    "            ['Percentage (%)', len(active_rows)/dataset_length*100, len(inactive_rows)/dataset_length*100]]\n",
    "    print(tabulate(table, headers='firstrow', tablefmt='fancy_grid'))"
   ]
  },
  {
   "cell_type": "code",
   "execution_count": 5,
   "metadata": {},
   "outputs": [
    {
     "name": "stdout",
     "output_type": "stream",
     "text": [
      "Total dataset: 2183\n",
      "╒════════════════╤═══════════╤════════════╕\n",
      "│                │    Active │   Inactive │\n",
      "╞════════════════╪═══════════╪════════════╡\n",
      "│ Number         │ 1006      │  1177      │\n",
      "├────────────────┼───────────┼────────────┤\n",
      "│ Percentage (%) │   46.0834 │    53.9166 │\n",
      "╘════════════════╧═══════════╧════════════╛\n"
     ]
    }
   ],
   "source": [
    "check_activity_distribution(dataset=dataset, col_name=\"Bioactivity\")"
   ]
  },
  {
   "cell_type": "code",
   "execution_count": 6,
   "metadata": {},
   "outputs": [],
   "source": [
    "from tqdm import tqdm\n",
    "\n",
    "#maccs\n",
    "def morgan_fpts(data):\n",
    "    Morgan_fpts = []\n",
    "    count = 0\n",
    "    with tqdm(total=len(data), desc='Progress') as pbar:\n",
    "        for i in data:\n",
    "            try:\n",
    "                mol = Chem.MolFromSmiles(i)\n",
    "            except:\n",
    "                print(\"An exception occurred with \" + str(count))\n",
    "                continue\n",
    "            fpts = AllChem.GetMorganFingerprintAsBitVect(mol, 2, 1024)\n",
    "            mfpts = np.array(fpts)\n",
    "            Morgan_fpts.append(mfpts)\n",
    "            count += 1\n",
    "            pbar.update(1)  # Update the progress bar\n",
    "    return np.array(Morgan_fpts)"
   ]
  },
  {
   "cell_type": "markdown",
   "metadata": {},
   "source": [
    "# 2. Train test split"
   ]
  },
  {
   "cell_type": "code",
   "execution_count": 7,
   "metadata": {},
   "outputs": [],
   "source": [
    "le = LabelEncoder()\n",
    "labels = le.fit_transform(dataset['Bioactivity'])"
   ]
  },
  {
   "cell_type": "code",
   "execution_count": 8,
   "metadata": {},
   "outputs": [
    {
     "data": {
      "text/plain": [
       "['active', 'inactive']"
      ]
     },
     "execution_count": 8,
     "metadata": {},
     "output_type": "execute_result"
    }
   ],
   "source": [
    "list(le.classes_)"
   ]
  },
  {
   "cell_type": "code",
   "execution_count": 9,
   "metadata": {},
   "outputs": [],
   "source": [
    "from sklearn.model_selection import train_test_split\n",
    "random_state = 42\n",
    "train_idx, temp_indeces, y_train, y_temp = train_test_split(dataset.index, labels, test_size=0.3, random_state=random_state)\n",
    "test_idx, val_idx, y_test, y_val = train_test_split(temp_indeces, y_temp, test_size=0.5, random_state=random_state)"
   ]
  },
  {
   "cell_type": "code",
   "execution_count": 10,
   "metadata": {},
   "outputs": [],
   "source": [
    "train_df = dataset.iloc[train_idx]\n",
    "val_df = dataset.iloc[val_idx]\n",
    "test_df = dataset.iloc[test_idx]"
   ]
  },
  {
   "cell_type": "code",
   "execution_count": 11,
   "metadata": {},
   "outputs": [
    {
     "data": {
      "text/html": [
       "<div>\n",
       "<style scoped>\n",
       "    .dataframe tbody tr th:only-of-type {\n",
       "        vertical-align: middle;\n",
       "    }\n",
       "\n",
       "    .dataframe tbody tr th {\n",
       "        vertical-align: top;\n",
       "    }\n",
       "\n",
       "    .dataframe thead th {\n",
       "        text-align: right;\n",
       "    }\n",
       "</style>\n",
       "<table border=\"1\" class=\"dataframe\">\n",
       "  <thead>\n",
       "    <tr style=\"text-align: right;\">\n",
       "      <th></th>\n",
       "      <th>Code</th>\n",
       "      <th>SMILES</th>\n",
       "      <th>Bioactivity</th>\n",
       "    </tr>\n",
       "  </thead>\n",
       "  <tbody>\n",
       "    <tr>\n",
       "      <th>376</th>\n",
       "      <td>415897</td>\n",
       "      <td>CC(Nc1ccc(CN(CCC=C2CCC(NO)=O)C2=O)cc1)=O</td>\n",
       "      <td>inactive</td>\n",
       "    </tr>\n",
       "    <tr>\n",
       "      <th>929</th>\n",
       "      <td>1589183</td>\n",
       "      <td>COc(cc(/C=C/C(Nc(cccc1)c1N)=O)cc1)c1OCC(Nc(cc1...</td>\n",
       "      <td>inactive</td>\n",
       "    </tr>\n",
       "    <tr>\n",
       "      <th>439</th>\n",
       "      <td>1161066</td>\n",
       "      <td>CC[C@H](C)[C@@H](C(N(Cc1c(C2)ccc(OCC(NO)=O)c1)...</td>\n",
       "      <td>active</td>\n",
       "    </tr>\n",
       "    <tr>\n",
       "      <th>271</th>\n",
       "      <td>2100074</td>\n",
       "      <td>CC(c1ccccc1)Nc1ncnc2c1cc(-c1ccc(CN3CCN(CCOCCCC...</td>\n",
       "      <td>inactive</td>\n",
       "    </tr>\n",
       "    <tr>\n",
       "      <th>244</th>\n",
       "      <td>386804</td>\n",
       "      <td>CC(C)SC(SCC(c1ccc(C)cc1)=O)=S</td>\n",
       "      <td>inactive</td>\n",
       "    </tr>\n",
       "  </tbody>\n",
       "</table>\n",
       "</div>"
      ],
      "text/plain": [
       "        Code                                             SMILES Bioactivity\n",
       "376   415897           CC(Nc1ccc(CN(CCC=C2CCC(NO)=O)C2=O)cc1)=O    inactive\n",
       "929  1589183  COc(cc(/C=C/C(Nc(cccc1)c1N)=O)cc1)c1OCC(Nc(cc1...    inactive\n",
       "439  1161066  CC[C@H](C)[C@@H](C(N(Cc1c(C2)ccc(OCC(NO)=O)c1)...      active\n",
       "271  2100074  CC(c1ccccc1)Nc1ncnc2c1cc(-c1ccc(CN3CCN(CCOCCCC...    inactive\n",
       "244   386804                      CC(C)SC(SCC(c1ccc(C)cc1)=O)=S    inactive"
      ]
     },
     "execution_count": 11,
     "metadata": {},
     "output_type": "execute_result"
    }
   ],
   "source": [
    "train_df.head()"
   ]
  },
  {
   "cell_type": "code",
   "execution_count": 12,
   "metadata": {},
   "outputs": [
    {
     "name": "stdout",
     "output_type": "stream",
     "text": [
      "Train dataset\n",
      "Total dataset: 1528\n",
      "╒════════════════╤══════════╤════════════╕\n",
      "│                │   Active │   Inactive │\n",
      "╞════════════════╪══════════╪════════════╡\n",
      "│ Number         │  701     │    827     │\n",
      "├────────────────┼──────────┼────────────┤\n",
      "│ Percentage (%) │   45.877 │     54.123 │\n",
      "╘════════════════╧══════════╧════════════╛\n",
      "Validation dataset\n",
      "Total dataset: 328\n",
      "╒════════════════╤══════════╤════════════╕\n",
      "│                │   Active │   Inactive │\n",
      "╞════════════════╪══════════╪════════════╡\n",
      "│ Number         │ 149      │   179      │\n",
      "├────────────────┼──────────┼────────────┤\n",
      "│ Percentage (%) │  45.4268 │    54.5732 │\n",
      "╘════════════════╧══════════╧════════════╛\n",
      "Test dataset\n",
      "Total dataset: 327\n",
      "╒════════════════╤══════════╤════════════╕\n",
      "│                │   Active │   Inactive │\n",
      "╞════════════════╪══════════╪════════════╡\n",
      "│ Number         │ 156      │   171      │\n",
      "├────────────────┼──────────┼────────────┤\n",
      "│ Percentage (%) │  47.7064 │    52.2936 │\n",
      "╘════════════════╧══════════╧════════════╛\n"
     ]
    }
   ],
   "source": [
    "print(\"Train dataset\")\n",
    "check_activity_distribution(dataset=train_df, col_name=\"Bioactivity\")\n",
    "print(\"Validation dataset\")\n",
    "check_activity_distribution(dataset=val_df, col_name=\"Bioactivity\")\n",
    "print(\"Test dataset\")\n",
    "check_activity_distribution(dataset=test_df, col_name=\"Bioactivity\")"
   ]
  },
  {
   "cell_type": "code",
   "execution_count": 14,
   "metadata": {},
   "outputs": [],
   "source": [
    "# Write to file\n",
    "with pd.ExcelWriter(\"../../data/train_test_data/NoCL/20240321_pan_HDAC_train_test_data.xlsx\", engine='openpyxl') as writer:\n",
    "    train_df.to_excel(writer, sheet_name='train_dataset', index=False)\n",
    "    test_df.to_excel(writer, sheet_name='test_dataset', index=False)\n",
    "    val_df.to_excel(writer, sheet_name='validation_dataset', index=False)"
   ]
  }
 ],
 "metadata": {
  "kernelspec": {
   "display_name": "my-rdkit-env",
   "language": "python",
   "name": "python3"
  },
  "language_info": {
   "codemirror_mode": {
    "name": "ipython",
    "version": 3
   },
   "file_extension": ".py",
   "mimetype": "text/x-python",
   "name": "python",
   "nbconvert_exporter": "python",
   "pygments_lexer": "ipython3",
   "version": "3.12.2"
  }
 },
 "nbformat": 4,
 "nbformat_minor": 2
}
