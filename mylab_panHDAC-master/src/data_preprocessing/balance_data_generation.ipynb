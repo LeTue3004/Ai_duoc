{
 "cells": [
  {
   "cell_type": "code",
   "execution_count": 1,
   "metadata": {},
   "outputs": [],
   "source": [
    "from rdkit.Chem import AllChem\n",
    "from rdkit import Chem\n",
    "from rdkit.Chem import Descriptors, MACCSkeys\n",
    "from rdkit.ML.Descriptors import MoleculeDescriptors\n",
    "\n",
    "import pandas as pd\n",
    "import numpy as np\n",
    "import matplotlib.pyplot as plt\n",
    "from tabulate import tabulate\n",
    "\n",
    "from sklearn.preprocessing import LabelEncoder "
   ]
  },
  {
   "cell_type": "markdown",
   "metadata": {},
   "source": [
    "# 1. Import data"
   ]
  },
  {
   "cell_type": "code",
   "execution_count": 2,
   "metadata": {},
   "outputs": [
    {
     "name": "stdout",
     "output_type": "stream",
     "text": [
      "604 123 137\n"
     ]
    }
   ],
   "source": [
    "train_test_path = \"../../data/train_test_data/CL/20240216_clean_data_approach1_method2.xlsx\"\n",
    "train_dataset = pd.read_excel(train_test_path, sheet_name='train_dataset')\n",
    "test_dataset = pd.read_excel(train_test_path, sheet_name='test_dataset')\n",
    "validation_dataset = pd.read_excel(train_test_path, sheet_name='validation_dataset')\n",
    "print(len(train_dataset), len(test_dataset), len(validation_dataset))"
   ]
  },
  {
   "cell_type": "code",
   "execution_count": 3,
   "metadata": {},
   "outputs": [
    {
     "data": {
      "text/html": [
       "<div>\n",
       "<style scoped>\n",
       "    .dataframe tbody tr th:only-of-type {\n",
       "        vertical-align: middle;\n",
       "    }\n",
       "\n",
       "    .dataframe tbody tr th {\n",
       "        vertical-align: top;\n",
       "    }\n",
       "\n",
       "    .dataframe thead th {\n",
       "        text-align: right;\n",
       "    }\n",
       "</style>\n",
       "<table border=\"1\" class=\"dataframe\">\n",
       "  <thead>\n",
       "    <tr style=\"text-align: right;\">\n",
       "      <th></th>\n",
       "      <th>MOL_ID</th>\n",
       "      <th>SMILES</th>\n",
       "      <th>IC50</th>\n",
       "      <th>IC50 of reference (vorinostat)</th>\n",
       "      <th>Bioactivity</th>\n",
       "      <th>Ref_DOI</th>\n",
       "    </tr>\n",
       "  </thead>\n",
       "  <tbody>\n",
       "    <tr>\n",
       "      <th>0</th>\n",
       "      <td>1162325</td>\n",
       "      <td>ONC(c1cnc(N(C[C@H]23)C[C@@H]2[C@H]3Nc2nc3ccccc...</td>\n",
       "      <td>490.4</td>\n",
       "      <td>60.2</td>\n",
       "      <td>inactive</td>\n",
       "      <td>10.1016/j.ejmech.2021.113799</td>\n",
       "    </tr>\n",
       "    <tr>\n",
       "      <th>1</th>\n",
       "      <td>136030779</td>\n",
       "      <td>C1=CC=C(C=C1)CN2C=C(N=N2)C3=CC(=CC=C3)C(=O)NO</td>\n",
       "      <td>58.0</td>\n",
       "      <td>107.0</td>\n",
       "      <td>active</td>\n",
       "      <td>10.1021/jm101605z</td>\n",
       "    </tr>\n",
       "    <tr>\n",
       "      <th>2</th>\n",
       "      <td>71520630</td>\n",
       "      <td>CC(C)C1=CC=C(C=C1)C(=O)NOCCCCCC(=O)NO</td>\n",
       "      <td>75.1</td>\n",
       "      <td>50.1</td>\n",
       "      <td>inactive</td>\n",
       "      <td>10.1021/acs.jmedchem.1c00821</td>\n",
       "    </tr>\n",
       "    <tr>\n",
       "      <th>3</th>\n",
       "      <td>11723098</td>\n",
       "      <td>C1=CC=C(C=C1)CCN2C=CC(=N2)C3=CC=C(S3)C(=O)NO</td>\n",
       "      <td>5000.0</td>\n",
       "      <td>120.0</td>\n",
       "      <td>inactive</td>\n",
       "      <td>10.1016/s0960-894x(02)00622-4</td>\n",
       "    </tr>\n",
       "    <tr>\n",
       "      <th>4</th>\n",
       "      <td>164613013</td>\n",
       "      <td>C1=CC=C2C(=C1)N=C(S2)C(=O)NOCCCCCC(=O)NO</td>\n",
       "      <td>23000.0</td>\n",
       "      <td>280.0</td>\n",
       "      <td>inactive</td>\n",
       "      <td>10.1021/jm900125m</td>\n",
       "    </tr>\n",
       "  </tbody>\n",
       "</table>\n",
       "</div>"
      ],
      "text/plain": [
       "      MOL_ID                                             SMILES     IC50  \\\n",
       "0    1162325  ONC(c1cnc(N(C[C@H]23)C[C@@H]2[C@H]3Nc2nc3ccccc...    490.4   \n",
       "1  136030779      C1=CC=C(C=C1)CN2C=C(N=N2)C3=CC(=CC=C3)C(=O)NO     58.0   \n",
       "2   71520630              CC(C)C1=CC=C(C=C1)C(=O)NOCCCCCC(=O)NO     75.1   \n",
       "3   11723098       C1=CC=C(C=C1)CCN2C=CC(=N2)C3=CC=C(S3)C(=O)NO   5000.0   \n",
       "4  164613013           C1=CC=C2C(=C1)N=C(S2)C(=O)NOCCCCCC(=O)NO  23000.0   \n",
       "\n",
       "   IC50 of reference (vorinostat) Bioactivity                        Ref_DOI  \n",
       "0                            60.2    inactive   10.1016/j.ejmech.2021.113799  \n",
       "1                           107.0      active              10.1021/jm101605z  \n",
       "2                            50.1    inactive   10.1021/acs.jmedchem.1c00821  \n",
       "3                           120.0    inactive  10.1016/s0960-894x(02)00622-4  \n",
       "4                           280.0    inactive              10.1021/jm900125m  "
      ]
     },
     "execution_count": 3,
     "metadata": {},
     "output_type": "execute_result"
    }
   ],
   "source": [
    "train_dataset.head()"
   ]
  },
  {
   "cell_type": "code",
   "execution_count": 4,
   "metadata": {},
   "outputs": [],
   "source": [
    "def show_activity_distribution(dataset):\n",
    "    #Rows for specific labels\n",
    "    active_rows = dataset.loc[dataset[\"Bioactivity\"] == \"active\"]\n",
    "    inactive_rows = dataset.loc[dataset[\"Bioactivity\"] == \"inactive\"]\n",
    "    dataset_length = len(dataset)\n",
    "    print(\"Total dataset\")\n",
    "    table = [['', 'Active', 'Inactive'], \n",
    "            ['Number', len(active_rows), len(inactive_rows)],\n",
    "            ['Percentage (%)', len(active_rows)/dataset_length, len(inactive_rows)/dataset_length]]\n",
    "    print(tabulate(table, headers='firstrow', tablefmt='fancy_grid'))"
   ]
  },
  {
   "cell_type": "code",
   "execution_count": 5,
   "metadata": {},
   "outputs": [
    {
     "name": "stdout",
     "output_type": "stream",
     "text": [
      "Total dataset\n",
      "╒════════════════╤════════════╤════════════╕\n",
      "│                │     Active │   Inactive │\n",
      "╞════════════════╪════════════╪════════════╡\n",
      "│ Number         │ 182        │ 422        │\n",
      "├────────────────┼────────────┼────────────┤\n",
      "│ Percentage (%) │   0.301325 │   0.698675 │\n",
      "╘════════════════╧════════════╧════════════╛\n",
      "Total dataset\n",
      "╒════════════════╤═══════════╤════════════╕\n",
      "│                │    Active │   Inactive │\n",
      "╞════════════════╪═══════════╪════════════╡\n",
      "│ Number         │ 33        │  90        │\n",
      "├────────────────┼───────────┼────────────┤\n",
      "│ Percentage (%) │  0.268293 │   0.731707 │\n",
      "╘════════════════╧═══════════╧════════════╛\n",
      "Total dataset\n",
      "╒════════════════╤═══════════╤════════════╕\n",
      "│                │    Active │   Inactive │\n",
      "╞════════════════╪═══════════╪════════════╡\n",
      "│ Number         │ 46        │  91        │\n",
      "├────────────────┼───────────┼────────────┤\n",
      "│ Percentage (%) │  0.335766 │   0.664234 │\n",
      "╘════════════════╧═══════════╧════════════╛\n"
     ]
    }
   ],
   "source": [
    "show_activity_distribution(train_dataset)\n",
    "show_activity_distribution(test_dataset)\n",
    "show_activity_distribution(validation_dataset)"
   ]
  },
  {
   "cell_type": "markdown",
   "metadata": {},
   "source": [
    "## Split train dataset and remove randomly"
   ]
  },
  {
   "cell_type": "code",
   "execution_count": 6,
   "metadata": {},
   "outputs": [
    {
     "name": "stdout",
     "output_type": "stream",
     "text": [
      "422 182\n"
     ]
    }
   ],
   "source": [
    "active_dataset = train_dataset[train_dataset[\"Bioactivity\"] == \"active\"]\n",
    "inactive_dataset = train_dataset[train_dataset[\"Bioactivity\"] == \"inactive\"]\n",
    "print(len(inactive_dataset), len(active_dataset))"
   ]
  },
  {
   "cell_type": "code",
   "execution_count": 7,
   "metadata": {},
   "outputs": [
    {
     "name": "stdout",
     "output_type": "stream",
     "text": [
      "364\n",
      "364\n",
      "364\n",
      "364\n",
      "364\n",
      "364\n",
      "364\n",
      "364\n",
      "364\n",
      "364\n"
     ]
    }
   ],
   "source": [
    "def remove_n_elements(df, n, seed):\n",
    "    np.random.seed(seed)\n",
    "    to_remove = np.random.choice(df.index, size=n, replace=False)\n",
    "    return df.drop(to_remove)\n",
    "\n",
    "no_removed = len(inactive_dataset) - len(active_dataset)\n",
    "train_datasets = []\n",
    "for i in range(10):\n",
    "    train_dataset = remove_n_elements(df=inactive_dataset, n=no_removed, seed=i)\n",
    "    train_dataset = pd.concat([train_dataset, active_dataset])\n",
    "    train_datasets.append(train_dataset)\n",
    "    print(len(train_dataset))"
   ]
  },
  {
   "cell_type": "code",
   "execution_count": 11,
   "metadata": {},
   "outputs": [],
   "source": [
    "with pd.ExcelWriter('../../data/survey_data/CL_then_balance/20240216_CL_then_balance_survey_data.xlsx', engine='xlsxwriter') as writer:\n",
    "    for i in range(10):\n",
    "        train_datasets[i].to_excel(writer, sheet_name=f\"train_set_{i}\")"
   ]
  }
 ],
 "metadata": {
  "kernelspec": {
   "display_name": "my-rdkit-env",
   "language": "python",
   "name": "python3"
  },
  "language_info": {
   "codemirror_mode": {
    "name": "ipython",
    "version": 3
   },
   "file_extension": ".py",
   "mimetype": "text/x-python",
   "name": "python",
   "nbconvert_exporter": "python",
   "pygments_lexer": "ipython3",
   "version": "3.12.0"
  }
 },
 "nbformat": 4,
 "nbformat_minor": 2
}
