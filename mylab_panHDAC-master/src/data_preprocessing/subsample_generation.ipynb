{
 "cells": [
  {
   "cell_type": "code",
   "execution_count": 1,
   "metadata": {},
   "outputs": [],
   "source": [
    "from rdkit.Chem import AllChem\n",
    "from rdkit import Chem\n",
    "from rdkit.Chem import Descriptors, MACCSkeys\n",
    "from rdkit.ML.Descriptors import MoleculeDescriptors\n",
    "\n",
    "import pandas as pd\n",
    "import numpy as np\n",
    "import matplotlib.pyplot as plt\n",
    "from tabulate import tabulate\n",
    "\n",
    "from sklearn.preprocessing import LabelEncoder "
   ]
  },
  {
   "cell_type": "markdown",
   "metadata": {},
   "source": [
    "# 1. Import data"
   ]
  },
  {
   "cell_type": "code",
   "execution_count": null,
   "metadata": {},
   "outputs": [],
   "source": [
    "def show_activity_distribution(dataset):\n",
    "    #Rows for specific labels\n",
    "    active_rows = dataset.loc[dataset[\"Bioactivity\"] == \"active\"]\n",
    "    inactive_rows = dataset.loc[dataset[\"Bioactivity\"] == \"inactive\"]\n",
    "    dataset_length = len(dataset)\n",
    "    print(\"Total dataset\")\n",
    "    table = [['', 'Active', 'Inactive'], \n",
    "            ['Number', len(active_rows), len(inactive_rows)],\n",
    "            ['Percentage (%)', len(active_rows)/dataset_length, len(inactive_rows)/dataset_length]]\n",
    "    print(tabulate(table, headers='firstrow', tablefmt='fancy_grid'))"
   ]
  },
  {
   "cell_type": "code",
   "execution_count": 6,
   "metadata": {},
   "outputs": [
    {
     "name": "stdout",
     "output_type": "stream",
     "text": [
      "1067\n",
      "Total dataset\n",
      "╒════════════════╤════════════╤════════════╕\n",
      "│                │     Active │   Inactive │\n",
      "╞════════════════╪════════════╪════════════╡\n",
      "│ Number         │ 416        │ 651        │\n",
      "├────────────────┼────────────┼────────────┤\n",
      "│ Percentage (%) │   0.389878 │   0.610122 │\n",
      "╘════════════════╧════════════╧════════════╛\n"
     ]
    }
   ],
   "source": [
    "train_test_path = \"../../data/train_test_data/NoCL/20240307_pan_HDAC_train_test_data.xlsx\"\n",
    "train_dataset = pd.read_excel(train_test_path, sheet_name='train_dataset')\n",
    "print(len(train_dataset))\n",
    "show_activity_distribution(train_dataset)"
   ]
  },
  {
   "cell_type": "code",
   "execution_count": 7,
   "metadata": {},
   "outputs": [
    {
     "data": {
      "text/html": [
       "<div>\n",
       "<style scoped>\n",
       "    .dataframe tbody tr th:only-of-type {\n",
       "        vertical-align: middle;\n",
       "    }\n",
       "\n",
       "    .dataframe tbody tr th {\n",
       "        vertical-align: top;\n",
       "    }\n",
       "\n",
       "    .dataframe thead th {\n",
       "        text-align: right;\n",
       "    }\n",
       "</style>\n",
       "<table border=\"1\" class=\"dataframe\">\n",
       "  <thead>\n",
       "    <tr style=\"text-align: right;\">\n",
       "      <th></th>\n",
       "      <th>MOL_ID</th>\n",
       "      <th>SMILES</th>\n",
       "      <th>Bioactivity</th>\n",
       "    </tr>\n",
       "  </thead>\n",
       "  <tbody>\n",
       "    <tr>\n",
       "      <th>0</th>\n",
       "      <td>415892</td>\n",
       "      <td>ONC(CCC1=CCCN(CCCc(cc2)ccc2-c2ccccc2)C1=O)=O</td>\n",
       "      <td>inactive</td>\n",
       "    </tr>\n",
       "    <tr>\n",
       "      <th>1</th>\n",
       "      <td>11449823</td>\n",
       "      <td>C1=CC=C(C=C1)C2=CC(=CC=C2)NC(=O)CCCCCCS</td>\n",
       "      <td>active</td>\n",
       "    </tr>\n",
       "    <tr>\n",
       "      <th>2</th>\n",
       "      <td>2305748</td>\n",
       "      <td>CC(C)c(c(O)c1)cc(C(N(CC2)c(cc3)c2cc3NC(CCCC(NO...</td>\n",
       "      <td>inactive</td>\n",
       "    </tr>\n",
       "    <tr>\n",
       "      <th>3</th>\n",
       "      <td>1282795</td>\n",
       "      <td>CC(C)(C)OC(C[C@@H](c1nnc(C)[n]1-c1c2c(C)c(C)[s...</td>\n",
       "      <td>inactive</td>\n",
       "    </tr>\n",
       "    <tr>\n",
       "      <th>4</th>\n",
       "      <td>390828</td>\n",
       "      <td>COc1cccc(C(c2cc(cc(/C=C/C(NO)=O)cc3)c3[nH]2)=O)c1</td>\n",
       "      <td>inactive</td>\n",
       "    </tr>\n",
       "  </tbody>\n",
       "</table>\n",
       "</div>"
      ],
      "text/plain": [
       "     MOL_ID                                             SMILES Bioactivity\n",
       "0    415892       ONC(CCC1=CCCN(CCCc(cc2)ccc2-c2ccccc2)C1=O)=O    inactive\n",
       "1  11449823            C1=CC=C(C=C1)C2=CC(=CC=C2)NC(=O)CCCCCCS      active\n",
       "2   2305748  CC(C)c(c(O)c1)cc(C(N(CC2)c(cc3)c2cc3NC(CCCC(NO...    inactive\n",
       "3   1282795  CC(C)(C)OC(C[C@@H](c1nnc(C)[n]1-c1c2c(C)c(C)[s...    inactive\n",
       "4    390828  COc1cccc(C(c2cc(cc(/C=C/C(NO)=O)cc3)c3[nH]2)=O)c1    inactive"
      ]
     },
     "execution_count": 7,
     "metadata": {},
     "output_type": "execute_result"
    }
   ],
   "source": [
    "train_dataset.head()"
   ]
  },
  {
   "cell_type": "markdown",
   "metadata": {},
   "source": [
    "## Split train dataset and remove randomly"
   ]
  },
  {
   "cell_type": "code",
   "execution_count": 18,
   "metadata": {},
   "outputs": [
    {
     "name": "stdout",
     "output_type": "stream",
     "text": [
      "651 416\n"
     ]
    }
   ],
   "source": [
    "active_dataset = train_dataset[train_dataset[\"Bioactivity\"] == \"active\"].reset_index()\n",
    "inactive_dataset = train_dataset[train_dataset[\"Bioactivity\"] == \"inactive\"].reset_index()\n",
    "print(len(inactive_dataset), len(active_dataset))"
   ]
  },
  {
   "cell_type": "code",
   "execution_count": 19,
   "metadata": {},
   "outputs": [
    {
     "data": {
      "text/plain": [
       "651"
      ]
     },
     "execution_count": 19,
     "metadata": {},
     "output_type": "execute_result"
    }
   ],
   "source": [
    "len(inactive_dataset)"
   ]
  },
  {
   "cell_type": "code",
   "execution_count": 21,
   "metadata": {},
   "outputs": [],
   "source": [
    "def select_index(df: pd.DataFrame, sub_sample, seed: int):\n",
    "    np.random.seed(seed)\n",
    "    return np.random.choice(df.index, size=int(len(df)*sub_sample), replace=False).tolist()\n",
    "\n",
    "train_datasets = None\n",
    "for i in np.round(np.linspace(0.05, 0.95, num=19), decimals=2):\n",
    "    for seed in range(10):\n",
    "        active_idx = select_index(df=active_dataset, sub_sample=i, seed=seed)\n",
    "        inactive_idx = select_index(df=inactive_dataset, sub_sample=i, seed=seed)\n",
    "        rand_subsample = pd.concat([inactive_dataset.iloc[inactive_idx].copy(), active_dataset.iloc[active_idx].copy()]) \n",
    "        rand_subsample.loc[:, \"subsample_size\"] = i\n",
    "        rand_subsample.loc[:, \"rand_seed\"] = seed\n",
    "        if train_datasets is None:\n",
    "            train_datasets = rand_subsample\n",
    "        else:\n",
    "            train_datasets = pd.concat([train_datasets, rand_subsample], axis=0)"
   ]
  },
  {
   "cell_type": "code",
   "execution_count": 31,
   "metadata": {},
   "outputs": [
    {
     "name": "stdout",
     "output_type": "stream",
     "text": [
      "Total dataset\n",
      "╒════════════════╤═══════════╤════════════╕\n",
      "│                │    Active │   Inactive │\n",
      "╞════════════════╪═══════════╪════════════╡\n",
      "│ Number         │ 41        │  65        │\n",
      "├────────────────┼───────────┼────────────┤\n",
      "│ Percentage (%) │  0.386792 │   0.613208 │\n",
      "╘════════════════╧═══════════╧════════════╛\n"
     ]
    },
    {
     "data": {
      "text/html": [
       "<div>\n",
       "<style scoped>\n",
       "    .dataframe tbody tr th:only-of-type {\n",
       "        vertical-align: middle;\n",
       "    }\n",
       "\n",
       "    .dataframe tbody tr th {\n",
       "        vertical-align: top;\n",
       "    }\n",
       "\n",
       "    .dataframe thead th {\n",
       "        text-align: right;\n",
       "    }\n",
       "</style>\n",
       "<table border=\"1\" class=\"dataframe\">\n",
       "  <thead>\n",
       "    <tr style=\"text-align: right;\">\n",
       "      <th></th>\n",
       "      <th>index</th>\n",
       "      <th>MOL_ID</th>\n",
       "      <th>SMILES</th>\n",
       "      <th>Bioactivity</th>\n",
       "      <th>subsample_size</th>\n",
       "      <th>rand_seed</th>\n",
       "    </tr>\n",
       "  </thead>\n",
       "  <tbody>\n",
       "    <tr>\n",
       "      <th>37</th>\n",
       "      <td>65</td>\n",
       "      <td>298980</td>\n",
       "      <td>CC(SCC(NCCCCCC(Nc1ccccc1)=O)=O)=O</td>\n",
       "      <td>inactive</td>\n",
       "      <td>0.1</td>\n",
       "      <td>2</td>\n",
       "    </tr>\n",
       "    <tr>\n",
       "      <th>520</th>\n",
       "      <td>864</td>\n",
       "      <td>166630425</td>\n",
       "      <td>C1=CC=C2C(=C1)NC(=N2)C3=CC4=C(C=C3)N=C(N4)C5=C...</td>\n",
       "      <td>inactive</td>\n",
       "      <td>0.1</td>\n",
       "      <td>2</td>\n",
       "    </tr>\n",
       "    <tr>\n",
       "      <th>475</th>\n",
       "      <td>790</td>\n",
       "      <td>1840395</td>\n",
       "      <td>ONC(CCCCC(N(C/C=C/CCOc1cc(-c2ccnc(N3)n2)ccc1)C...</td>\n",
       "      <td>inactive</td>\n",
       "      <td>0.1</td>\n",
       "      <td>2</td>\n",
       "    </tr>\n",
       "    <tr>\n",
       "      <th>641</th>\n",
       "      <td>1048</td>\n",
       "      <td>336043</td>\n",
       "      <td>CN(C)c(cc1)ccc1S(CCCCCC(NO)=O)=O</td>\n",
       "      <td>inactive</td>\n",
       "      <td>0.1</td>\n",
       "      <td>2</td>\n",
       "    </tr>\n",
       "    <tr>\n",
       "      <th>595</th>\n",
       "      <td>983</td>\n",
       "      <td>25118057</td>\n",
       "      <td>CNC(=O)C(=O)CCCCCCC(=O)NC1=CC=CC=C1</td>\n",
       "      <td>inactive</td>\n",
       "      <td>0.1</td>\n",
       "      <td>2</td>\n",
       "    </tr>\n",
       "  </tbody>\n",
       "</table>\n",
       "</div>"
      ],
      "text/plain": [
       "     index     MOL_ID                                             SMILES  \\\n",
       "37      65     298980                  CC(SCC(NCCCCCC(Nc1ccccc1)=O)=O)=O   \n",
       "520    864  166630425  C1=CC=C2C(=C1)NC(=N2)C3=CC4=C(C=C3)N=C(N4)C5=C...   \n",
       "475    790    1840395  ONC(CCCCC(N(C/C=C/CCOc1cc(-c2ccnc(N3)n2)ccc1)C...   \n",
       "641   1048     336043                   CN(C)c(cc1)ccc1S(CCCCCC(NO)=O)=O   \n",
       "595    983   25118057                CNC(=O)C(=O)CCCCCCC(=O)NC1=CC=CC=C1   \n",
       "\n",
       "    Bioactivity  subsample_size  rand_seed  \n",
       "37     inactive             0.1          2  \n",
       "520    inactive             0.1          2  \n",
       "475    inactive             0.1          2  \n",
       "641    inactive             0.1          2  \n",
       "595    inactive             0.1          2  "
      ]
     },
     "execution_count": 31,
     "metadata": {},
     "output_type": "execute_result"
    }
   ],
   "source": [
    "test_data = train_datasets[(train_datasets[\"subsample_size\"] == 0.1) & (train_datasets[\"rand_seed\"] == 2)]\n",
    "show_activity_distribution(test_data)\n",
    "test_data.head()"
   ]
  },
  {
   "cell_type": "code",
   "execution_count": 57,
   "metadata": {},
   "outputs": [],
   "source": [
    "train_datasets.to_csv(\"../../data/survey/dataset_size/subsampled_train_dataset.csv\")"
   ]
  }
 ],
 "metadata": {
  "kernelspec": {
   "display_name": "my-rdkit-env",
   "language": "python",
   "name": "python3"
  },
  "language_info": {
   "codemirror_mode": {
    "name": "ipython",
    "version": 3
   },
   "file_extension": ".py",
   "mimetype": "text/x-python",
   "name": "python",
   "nbconvert_exporter": "python",
   "pygments_lexer": "ipython3",
   "version": "3.12.0"
  }
 },
 "nbformat": 4,
 "nbformat_minor": 2
}
